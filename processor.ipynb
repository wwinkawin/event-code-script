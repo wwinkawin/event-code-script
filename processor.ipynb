{
 "cells": [
  {
   "cell_type": "code",
   "execution_count": 26,
   "metadata": {
    "collapsed": true
   },
   "outputs": [],
   "source": [
    "import pandas as pd\n",
    "import numpy as np\n",
    "import json"
   ]
  },
  {
   "cell_type": "code",
   "execution_count": 28,
   "outputs": [],
   "source": [
    "column_dict = {\"eventEngine\" :int,\n",
    "               \"eventEngine.1\" : int,\n",
    "               \"eventEngine.2\": int,\n",
    "               \"eventEngine.4\": int,\n",
    "               \"commsEngine\": int,\n",
    "               \"commsEngine.1\" : int,\n",
    "               \"commsEngine.2\" : int,\n",
    "               \"commsEngine.3\" : int,\n",
    "               \"commsEngine.5\": int,\n",
    "               \"commsEngine.6\" : int,\n",
    "               \"transactionAccumulator\" : int,\n",
    "               \"transactionAccumulator.1\": int}\n",
    "data_dict = {}"
   ],
   "metadata": {
    "collapsed": false,
    "pycharm": {
     "name": "#%%\n"
    }
   }
  },
  {
   "cell_type": "code",
   "source": [
    "_raw_data = pd.read_excel('AD_To_Fill_Event_Code_Configuration_v1.0.xlsx', header=list(range(4)), skipinitialspace=True, tupleize_cols=True, sheet_name = \"6) Event code generater\")"
   ],
   "metadata": {
    "collapsed": false,
    "pycharm": {
     "name": "#%%\n"
    }
   },
   "execution_count": 3,
   "outputs": []
  },
  {
   "cell_type": "code",
   "execution_count": 4,
   "metadata": {},
   "outputs": [],
   "source": [
    "data = _raw_data"
   ]
  },
  {
   "cell_type": "code",
   "execution_count": 5,
   "metadata": {},
   "outputs": [],
   "source": [
    "#Drop level from \n",
    "data.columns = pd.MultiIndex.from_tuples(data.columns).droplevel(2)\n",
    "\n",
    "#Only keep frist 22 cols\n",
    "data = data.iloc[:,:22]"
   ]
  },
  {
   "cell_type": "code",
   "execution_count": 6,
   "metadata": {},
   "outputs": [
    {
     "output_type": "execute_result",
     "data": {
      "text/plain": "  Unnamed: 0_level_0 Unnamed: 1_level_0 Unnamed: 2_level_0               type  \\\n  Unnamed: 0_level_1 Unnamed: 1_level_1 Unnamed: 2_level_1 Unnamed: 3_level_1   \n          Event_code         Event type           SIT Drop           Category   \n0              10001              Audit        MVP1 Drop 1              Login   \n1              10003              Audit        MVP1 Drop 1              Login   \n2              10004              Audit        MVP1 Drop 1              Login   \n3              10005              Audit        MVP1 Drop 1              Login   \n4              10009              Audit        MVP1 Drop 3      Registration    \n\n                           activityType                           category  \\\n  Unnamed: 4_level_1 Unnamed: 5_level_1                 Unnamed: 6_level_1   \n           Epic Link     Activity type  Category (Financial/Non-financial)   \n0              Login              Login                      Non-financial   \n1              Login              Login                      Non-financial   \n2              Login              Login                      Non-financial   \n3              Login              Login                      Non-financial   \n4       Registration       Registration                      Non-financial   \n\n                      description  eventEngine                              \\\n               Unnamed: 7_level_1 targetTopics                               \n                      Description    log.audit stream.documentum.documents   \n0                       PIN Login            Y                         NaN   \n1                 Biometric Login            Y                         NaN   \n2        NEXT Term and Conditions            Y                         NaN   \n3                          Logout            Y                         NaN   \n4  Registration - ID verification            Y                         NaN   \n\n   ...                           commsEngine                             \\\n   ...                          targetTopics                              \n   ... stream.transaction.limit   push.email push.sms push.notification   \n0  ...                      NaN            Y      NaN               NaN   \n1  ...                      NaN            Y      NaN               NaN   \n2  ...                      NaN          NaN      NaN                 Y   \n3  ...                      NaN          NaN      NaN               NaN   \n4  ...                      NaN          NaN      NaN               NaN   \n\n                                                               \\\n  fromPreference                                  fromProfile   \n      isRequired                    requiredField  isRequired   \n0              Y  isLoginEmailNotificationEnabled           Y   \n1              Y  isLoginEmailNotificationEnabled           Y   \n2            NaN                              NaN           Y   \n3            NaN                              NaN         NaN   \n4            NaN                              NaN         NaN   \n\n                             transactionAccumulator        \n            pushNotification        transactionType        \n  isImmediateRoutingRequired                    OWN OTHER  \n0                        NaN                    NaN   NaN  \n1                        NaN                    NaN   NaN  \n2                        NaN                    NaN   NaN  \n3                        NaN                    NaN   NaN  \n4                        NaN                    NaN   NaN  \n\n[5 rows x 22 columns]",
      "text/html": "<div>\n<style scoped>\n    .dataframe tbody tr th:only-of-type {\n        vertical-align: middle;\n    }\n\n    .dataframe tbody tr th {\n        vertical-align: top;\n    }\n\n    .dataframe thead tr th {\n        text-align: left;\n    }\n</style>\n<table border=\"1\" class=\"dataframe\">\n  <thead>\n    <tr>\n      <th></th>\n      <th>Unnamed: 0_level_0</th>\n      <th>Unnamed: 1_level_0</th>\n      <th>Unnamed: 2_level_0</th>\n      <th colspan=\"2\" halign=\"left\">type</th>\n      <th>activityType</th>\n      <th>category</th>\n      <th>description</th>\n      <th colspan=\"4\" halign=\"left\">eventEngine</th>\n      <th colspan=\"7\" halign=\"left\">commsEngine</th>\n      <th colspan=\"2\" halign=\"left\">transactionAccumulator</th>\n    </tr>\n    <tr>\n      <th></th>\n      <th>Unnamed: 0_level_1</th>\n      <th>Unnamed: 1_level_1</th>\n      <th>Unnamed: 2_level_1</th>\n      <th>Unnamed: 3_level_1</th>\n      <th>Unnamed: 4_level_1</th>\n      <th>Unnamed: 5_level_1</th>\n      <th>Unnamed: 6_level_1</th>\n      <th>Unnamed: 7_level_1</th>\n      <th colspan=\"4\" halign=\"left\">targetTopics</th>\n      <th colspan=\"3\" halign=\"left\">targetTopics</th>\n      <th colspan=\"2\" halign=\"left\">fromPreference</th>\n      <th>fromProfile</th>\n      <th>pushNotification</th>\n      <th colspan=\"2\" halign=\"left\">transactionType</th>\n    </tr>\n    <tr>\n      <th></th>\n      <th>Event_code</th>\n      <th>Event type</th>\n      <th>SIT Drop</th>\n      <th>Category</th>\n      <th>Epic Link</th>\n      <th>Activity type</th>\n      <th>Category (Financial/Non-financial)</th>\n      <th>Description</th>\n      <th>log.audit</th>\n      <th>stream.documentum.documents</th>\n      <th>...</th>\n      <th>stream.transaction.limit</th>\n      <th>push.email</th>\n      <th>push.sms</th>\n      <th>push.notification</th>\n      <th>isRequired</th>\n      <th>requiredField</th>\n      <th>isRequired</th>\n      <th>isImmediateRoutingRequired</th>\n      <th>OWN</th>\n      <th>OTHER</th>\n    </tr>\n  </thead>\n  <tbody>\n    <tr>\n      <th>0</th>\n      <td>10001</td>\n      <td>Audit</td>\n      <td>MVP1 Drop 1</td>\n      <td>Login</td>\n      <td>Login</td>\n      <td>Login</td>\n      <td>Non-financial</td>\n      <td>PIN Login</td>\n      <td>Y</td>\n      <td>NaN</td>\n      <td>...</td>\n      <td>NaN</td>\n      <td>Y</td>\n      <td>NaN</td>\n      <td>NaN</td>\n      <td>Y</td>\n      <td>isLoginEmailNotificationEnabled</td>\n      <td>Y</td>\n      <td>NaN</td>\n      <td>NaN</td>\n      <td>NaN</td>\n    </tr>\n    <tr>\n      <th>1</th>\n      <td>10003</td>\n      <td>Audit</td>\n      <td>MVP1 Drop 1</td>\n      <td>Login</td>\n      <td>Login</td>\n      <td>Login</td>\n      <td>Non-financial</td>\n      <td>Biometric Login</td>\n      <td>Y</td>\n      <td>NaN</td>\n      <td>...</td>\n      <td>NaN</td>\n      <td>Y</td>\n      <td>NaN</td>\n      <td>NaN</td>\n      <td>Y</td>\n      <td>isLoginEmailNotificationEnabled</td>\n      <td>Y</td>\n      <td>NaN</td>\n      <td>NaN</td>\n      <td>NaN</td>\n    </tr>\n    <tr>\n      <th>2</th>\n      <td>10004</td>\n      <td>Audit</td>\n      <td>MVP1 Drop 1</td>\n      <td>Login</td>\n      <td>Login</td>\n      <td>Login</td>\n      <td>Non-financial</td>\n      <td>NEXT Term and Conditions</td>\n      <td>Y</td>\n      <td>NaN</td>\n      <td>...</td>\n      <td>NaN</td>\n      <td>NaN</td>\n      <td>NaN</td>\n      <td>Y</td>\n      <td>NaN</td>\n      <td>NaN</td>\n      <td>Y</td>\n      <td>NaN</td>\n      <td>NaN</td>\n      <td>NaN</td>\n    </tr>\n    <tr>\n      <th>3</th>\n      <td>10005</td>\n      <td>Audit</td>\n      <td>MVP1 Drop 1</td>\n      <td>Login</td>\n      <td>Login</td>\n      <td>Login</td>\n      <td>Non-financial</td>\n      <td>Logout</td>\n      <td>Y</td>\n      <td>NaN</td>\n      <td>...</td>\n      <td>NaN</td>\n      <td>NaN</td>\n      <td>NaN</td>\n      <td>NaN</td>\n      <td>NaN</td>\n      <td>NaN</td>\n      <td>NaN</td>\n      <td>NaN</td>\n      <td>NaN</td>\n      <td>NaN</td>\n    </tr>\n    <tr>\n      <th>4</th>\n      <td>10009</td>\n      <td>Audit</td>\n      <td>MVP1 Drop 3</td>\n      <td>Registration</td>\n      <td>Registration</td>\n      <td>Registration</td>\n      <td>Non-financial</td>\n      <td>Registration - ID verification</td>\n      <td>Y</td>\n      <td>NaN</td>\n      <td>...</td>\n      <td>NaN</td>\n      <td>NaN</td>\n      <td>NaN</td>\n      <td>NaN</td>\n      <td>NaN</td>\n      <td>NaN</td>\n      <td>NaN</td>\n      <td>NaN</td>\n      <td>NaN</td>\n      <td>NaN</td>\n    </tr>\n  </tbody>\n</table>\n<p>5 rows × 22 columns</p>\n</div>"
     },
     "metadata": {},
     "execution_count": 6
    }
   ],
   "source": [
    "data.head()"
   ]
  },
  {
   "cell_type": "code",
   "execution_count": 7,
   "metadata": {},
   "outputs": [],
   "source": [
    "#Replace Y with True values\n",
    "data = data.replace(to_replace =[\"Y\"],  value = True)"
   ]
  },
  {
   "cell_type": "code",
   "execution_count": 8,
   "outputs": [],
   "source": [
    "data.set_index(data.iloc[:,0], drop= True, inplace= True)"
   ],
   "metadata": {
    "collapsed": false,
    "pycharm": {
     "name": "#%%\n"
    },
    "tags": []
   }
  },
  {
   "cell_type": "code",
   "execution_count": 9,
   "metadata": {},
   "outputs": [],
   "source": [
    "data.drop(labels= data.columns[0], axis= 'columns',inplace= True)"
   ]
  },
  {
   "cell_type": "code",
   "execution_count": 10,
   "metadata": {},
   "outputs": [
    {
     "output_type": "execute_result",
     "data": {
      "text/plain": "                                                   Unnamed: 1_level_0  \\\n                                                   Unnamed: 1_level_1   \n                                                           Event type   \n(Unnamed: 0_level_0, Unnamed: 0_level_1, Event_...                      \n10001                                                           Audit   \n10003                                                           Audit   \n10004                                                           Audit   \n10005                                                           Audit   \n10009                                                           Audit   \n\n                                                   Unnamed: 2_level_0  \\\n                                                   Unnamed: 2_level_1   \n                                                             SIT Drop   \n(Unnamed: 0_level_0, Unnamed: 0_level_1, Event_...                      \n10001                                                     MVP1 Drop 1   \n10003                                                     MVP1 Drop 1   \n10004                                                     MVP1 Drop 1   \n10005                                                     MVP1 Drop 1   \n10009                                                     MVP1 Drop 3   \n\n                                                                 type  \\\n                                                   Unnamed: 3_level_1   \n                                                             Category   \n(Unnamed: 0_level_0, Unnamed: 0_level_1, Event_...                      \n10001                                                           Login   \n10003                                                           Login   \n10004                                                           Login   \n10005                                                           Login   \n10009                                                   Registration    \n\n                                                                       \\\n                                                   Unnamed: 4_level_1   \n                                                            Epic Link   \n(Unnamed: 0_level_0, Unnamed: 0_level_1, Event_...                      \n10001                                                           Login   \n10003                                                           Login   \n10004                                                           Login   \n10005                                                           Login   \n10009                                                    Registration   \n\n                                                         activityType  \\\n                                                   Unnamed: 5_level_1   \n                                                       Activity type    \n(Unnamed: 0_level_0, Unnamed: 0_level_1, Event_...                      \n10001                                                           Login   \n10003                                                           Login   \n10004                                                           Login   \n10005                                                           Login   \n10009                                                    Registration   \n\n                                                                             category  \\\n                                                                   Unnamed: 6_level_1   \n                                                   Category (Financial/Non-financial)   \n(Unnamed: 0_level_0, Unnamed: 0_level_1, Event_...                                      \n10001                                                                   Non-financial   \n10003                                                                   Non-financial   \n10004                                                                   Non-financial   \n10005                                                                   Non-financial   \n10009                                                                   Non-financial   \n\n                                                                       description  \\\n                                                                Unnamed: 7_level_1   \n                                                                       Description   \n(Unnamed: 0_level_0, Unnamed: 0_level_1, Event_...                                   \n10001                                                                    PIN Login   \n10003                                                              Biometric Login   \n10004                                                     NEXT Term and Conditions   \n10005                                                                       Logout   \n10009                                               Registration - ID verification   \n\n                                                    eventEngine  \\\n                                                   targetTopics   \n                                                      log.audit   \n(Unnamed: 0_level_0, Unnamed: 0_level_1, Event_...                \n10001                                                      True   \n10003                                                      True   \n10004                                                      True   \n10005                                                      True   \n10009                                                      True   \n\n                                                                                \\\n                                                                                 \n                                                   stream.documentum.documents   \n(Unnamed: 0_level_0, Unnamed: 0_level_1, Event_...                               \n10001                                                                      NaN   \n10003                                                                      NaN   \n10004                                                                      NaN   \n10005                                                                      NaN   \n10009                                                                      NaN   \n\n                                                                         ...  \\\n                                                                         ...   \n                                                   stream.ndid.evidence  ...   \n(Unnamed: 0_level_0, Unnamed: 0_level_1, Event_...                       ...   \n10001                                                               NaN  ...   \n10003                                                               NaN  ...   \n10004                                                               NaN  ...   \n10005                                                               NaN  ...   \n10009                                                               NaN  ...   \n\n                                                                             \\\n                                                                              \n                                                   stream.transaction.limit   \n(Unnamed: 0_level_0, Unnamed: 0_level_1, Event_...                            \n10001                                                                   NaN   \n10003                                                                   NaN   \n10004                                                                   NaN   \n10005                                                                   NaN   \n10009                                                                   NaN   \n\n                                                    commsEngine           \\\n                                                   targetTopics            \n                                                     push.email push.sms   \n(Unnamed: 0_level_0, Unnamed: 0_level_1, Event_...                         \n10001                                                      True      NaN   \n10003                                                      True      NaN   \n10004                                                       NaN      NaN   \n10005                                                       NaN      NaN   \n10009                                                       NaN      NaN   \n\n                                                                      \\\n                                                                       \n                                                   push.notification   \n(Unnamed: 0_level_0, Unnamed: 0_level_1, Event_...                     \n10001                                                            NaN   \n10003                                                            NaN   \n10004                                                           True   \n10005                                                            NaN   \n10009                                                            NaN   \n\n                                                                   \\\n                                                   fromPreference   \n                                                       isRequired   \n(Unnamed: 0_level_0, Unnamed: 0_level_1, Event_...                  \n10001                                                        True   \n10003                                                        True   \n10004                                                         NaN   \n10005                                                         NaN   \n10009                                                         NaN   \n\n                                                                                     \\\n                                                                                      \n                                                                      requiredField   \n(Unnamed: 0_level_0, Unnamed: 0_level_1, Event_...                                    \n10001                                               isLoginEmailNotificationEnabled   \n10003                                               isLoginEmailNotificationEnabled   \n10004                                                                           NaN   \n10005                                                                           NaN   \n10009                                                                           NaN   \n\n                                                                \\\n                                                   fromProfile   \n                                                    isRequired   \n(Unnamed: 0_level_0, Unnamed: 0_level_1, Event_...               \n10001                                                     True   \n10003                                                     True   \n10004                                                     True   \n10005                                                      NaN   \n10009                                                      NaN   \n\n                                                                               \\\n                                                             pushNotification   \n                                                   isImmediateRoutingRequired   \n(Unnamed: 0_level_0, Unnamed: 0_level_1, Event_...                              \n10001                                                                     NaN   \n10003                                                                     NaN   \n10004                                                                     NaN   \n10005                                                                     NaN   \n10009                                                                     NaN   \n\n                                                   transactionAccumulator  \\\n                                                          transactionType   \n                                                                      OWN   \n(Unnamed: 0_level_0, Unnamed: 0_level_1, Event_...                          \n10001                                                                 NaN   \n10003                                                                 NaN   \n10004                                                                 NaN   \n10005                                                                 NaN   \n10009                                                                 NaN   \n\n                                                          \n                                                          \n                                                   OTHER  \n(Unnamed: 0_level_0, Unnamed: 0_level_1, Event_...        \n10001                                                NaN  \n10003                                                NaN  \n10004                                                NaN  \n10005                                                NaN  \n10009                                                NaN  \n\n[5 rows x 21 columns]",
      "text/html": "<div>\n<style scoped>\n    .dataframe tbody tr th:only-of-type {\n        vertical-align: middle;\n    }\n\n    .dataframe tbody tr th {\n        vertical-align: top;\n    }\n\n    .dataframe thead tr th {\n        text-align: left;\n    }\n\n    .dataframe thead tr:last-of-type th {\n        text-align: right;\n    }\n</style>\n<table border=\"1\" class=\"dataframe\">\n  <thead>\n    <tr>\n      <th></th>\n      <th>Unnamed: 1_level_0</th>\n      <th>Unnamed: 2_level_0</th>\n      <th colspan=\"2\" halign=\"left\">type</th>\n      <th>activityType</th>\n      <th>category</th>\n      <th>description</th>\n      <th colspan=\"5\" halign=\"left\">eventEngine</th>\n      <th colspan=\"7\" halign=\"left\">commsEngine</th>\n      <th colspan=\"2\" halign=\"left\">transactionAccumulator</th>\n    </tr>\n    <tr>\n      <th></th>\n      <th>Unnamed: 1_level_1</th>\n      <th>Unnamed: 2_level_1</th>\n      <th>Unnamed: 3_level_1</th>\n      <th>Unnamed: 4_level_1</th>\n      <th>Unnamed: 5_level_1</th>\n      <th>Unnamed: 6_level_1</th>\n      <th>Unnamed: 7_level_1</th>\n      <th colspan=\"5\" halign=\"left\">targetTopics</th>\n      <th colspan=\"3\" halign=\"left\">targetTopics</th>\n      <th colspan=\"2\" halign=\"left\">fromPreference</th>\n      <th>fromProfile</th>\n      <th>pushNotification</th>\n      <th colspan=\"2\" halign=\"left\">transactionType</th>\n    </tr>\n    <tr>\n      <th></th>\n      <th>Event type</th>\n      <th>SIT Drop</th>\n      <th>Category</th>\n      <th>Epic Link</th>\n      <th>Activity type</th>\n      <th>Category (Financial/Non-financial)</th>\n      <th>Description</th>\n      <th>log.audit</th>\n      <th>stream.documentum.documents</th>\n      <th>stream.ndid.evidence</th>\n      <th>...</th>\n      <th>stream.transaction.limit</th>\n      <th>push.email</th>\n      <th>push.sms</th>\n      <th>push.notification</th>\n      <th>isRequired</th>\n      <th>requiredField</th>\n      <th>isRequired</th>\n      <th>isImmediateRoutingRequired</th>\n      <th>OWN</th>\n      <th>OTHER</th>\n    </tr>\n    <tr>\n      <th>(Unnamed: 0_level_0, Unnamed: 0_level_1, Event_code)</th>\n      <th></th>\n      <th></th>\n      <th></th>\n      <th></th>\n      <th></th>\n      <th></th>\n      <th></th>\n      <th></th>\n      <th></th>\n      <th></th>\n      <th></th>\n      <th></th>\n      <th></th>\n      <th></th>\n      <th></th>\n      <th></th>\n      <th></th>\n      <th></th>\n      <th></th>\n      <th></th>\n      <th></th>\n    </tr>\n  </thead>\n  <tbody>\n    <tr>\n      <th>10001</th>\n      <td>Audit</td>\n      <td>MVP1 Drop 1</td>\n      <td>Login</td>\n      <td>Login</td>\n      <td>Login</td>\n      <td>Non-financial</td>\n      <td>PIN Login</td>\n      <td>True</td>\n      <td>NaN</td>\n      <td>NaN</td>\n      <td>...</td>\n      <td>NaN</td>\n      <td>True</td>\n      <td>NaN</td>\n      <td>NaN</td>\n      <td>True</td>\n      <td>isLoginEmailNotificationEnabled</td>\n      <td>True</td>\n      <td>NaN</td>\n      <td>NaN</td>\n      <td>NaN</td>\n    </tr>\n    <tr>\n      <th>10003</th>\n      <td>Audit</td>\n      <td>MVP1 Drop 1</td>\n      <td>Login</td>\n      <td>Login</td>\n      <td>Login</td>\n      <td>Non-financial</td>\n      <td>Biometric Login</td>\n      <td>True</td>\n      <td>NaN</td>\n      <td>NaN</td>\n      <td>...</td>\n      <td>NaN</td>\n      <td>True</td>\n      <td>NaN</td>\n      <td>NaN</td>\n      <td>True</td>\n      <td>isLoginEmailNotificationEnabled</td>\n      <td>True</td>\n      <td>NaN</td>\n      <td>NaN</td>\n      <td>NaN</td>\n    </tr>\n    <tr>\n      <th>10004</th>\n      <td>Audit</td>\n      <td>MVP1 Drop 1</td>\n      <td>Login</td>\n      <td>Login</td>\n      <td>Login</td>\n      <td>Non-financial</td>\n      <td>NEXT Term and Conditions</td>\n      <td>True</td>\n      <td>NaN</td>\n      <td>NaN</td>\n      <td>...</td>\n      <td>NaN</td>\n      <td>NaN</td>\n      <td>NaN</td>\n      <td>True</td>\n      <td>NaN</td>\n      <td>NaN</td>\n      <td>True</td>\n      <td>NaN</td>\n      <td>NaN</td>\n      <td>NaN</td>\n    </tr>\n    <tr>\n      <th>10005</th>\n      <td>Audit</td>\n      <td>MVP1 Drop 1</td>\n      <td>Login</td>\n      <td>Login</td>\n      <td>Login</td>\n      <td>Non-financial</td>\n      <td>Logout</td>\n      <td>True</td>\n      <td>NaN</td>\n      <td>NaN</td>\n      <td>...</td>\n      <td>NaN</td>\n      <td>NaN</td>\n      <td>NaN</td>\n      <td>NaN</td>\n      <td>NaN</td>\n      <td>NaN</td>\n      <td>NaN</td>\n      <td>NaN</td>\n      <td>NaN</td>\n      <td>NaN</td>\n    </tr>\n    <tr>\n      <th>10009</th>\n      <td>Audit</td>\n      <td>MVP1 Drop 3</td>\n      <td>Registration</td>\n      <td>Registration</td>\n      <td>Registration</td>\n      <td>Non-financial</td>\n      <td>Registration - ID verification</td>\n      <td>True</td>\n      <td>NaN</td>\n      <td>NaN</td>\n      <td>...</td>\n      <td>NaN</td>\n      <td>NaN</td>\n      <td>NaN</td>\n      <td>NaN</td>\n      <td>NaN</td>\n      <td>NaN</td>\n      <td>NaN</td>\n      <td>NaN</td>\n      <td>NaN</td>\n      <td>NaN</td>\n    </tr>\n  </tbody>\n</table>\n<p>5 rows × 21 columns</p>\n</div>"
     },
     "metadata": {},
     "execution_count": 10
    }
   ],
   "source": [
    "data.head()"
   ]
  },
  {
   "cell_type": "code",
   "execution_count": 20,
   "metadata": {},
   "outputs": [],
   "source": [
    "#Process description category activityType type\n",
    "df_slice = data.iloc[:,[2,4,5,6]]\n",
    "df_slice = df_1.droplevel([1,2],axis=1)"
   ]
  },
  {
   "cell_type": "code",
   "execution_count": 29,
   "metadata": {
    "tags": []
   },
   "outputs": [],
   "source": [
    "data_dict  =  df_slice.to_dict('index')"
   ]
  },
  {
   "cell_type": "code",
   "execution_count": 39,
   "metadata": {},
   "outputs": [
    {
     "output_type": "execute_result",
     "data": {
      "text/plain": "                                                   log.audit  \\\n(Unnamed: 0_level_0, Unnamed: 0_level_1, Event_...             \n10001                                                   True   \n10003                                                   True   \n10004                                                   True   \n10005                                                   True   \n10009                                                   True   \n...                                                      ...   \n42019                                                   True   \n42020                                                   True   \n40067                                                   True   \n40068                                                   True   \n22037                                                   True   \n\n                                                   stream.documentum.documents  \\\n(Unnamed: 0_level_0, Unnamed: 0_level_1, Event_...                               \n10001                                                                      NaN   \n10003                                                                      NaN   \n10004                                                                      NaN   \n10005                                                                      NaN   \n10009                                                                      NaN   \n...                                                                        ...   \n42019                                                                      NaN   \n42020                                                                      NaN   \n40067                                                                      NaN   \n40068                                                                      NaN   \n22037                                                                      NaN   \n\n                                                   stream.ndid.evidence  \\\n(Unnamed: 0_level_0, Unnamed: 0_level_1, Event_...                        \n10001                                                               NaN   \n10003                                                               NaN   \n10004                                                               NaN   \n10005                                                               NaN   \n10009                                                               NaN   \n...                                                                 ...   \n42019                                                               NaN   \n42020                                                               NaN   \n40067                                                               NaN   \n40068                                                               NaN   \n22037                                                               NaN   \n\n                                                   stream.cbs-data.update  \\\n(Unnamed: 0_level_0, Unnamed: 0_level_1, Event_...                          \n10001                                                                 NaN   \n10003                                                                 NaN   \n10004                                                                 NaN   \n10005                                                                 NaN   \n10009                                                                 NaN   \n...                                                                   ...   \n42019                                                                 NaN   \n42020                                                                 NaN   \n40067                                                                True   \n40068                                                                True   \n22037                                                                 NaN   \n\n                                                   stream.transaction.limit  \n(Unnamed: 0_level_0, Unnamed: 0_level_1, Event_...                           \n10001                                                                   NaN  \n10003                                                                   NaN  \n10004                                                                   NaN  \n10005                                                                   NaN  \n10009                                                                   NaN  \n...                                                                     ...  \n42019                                                                   NaN  \n42020                                                                   NaN  \n40067                                                                   NaN  \n40068                                                                   NaN  \n22037                                                                  True  \n\n[191 rows x 5 columns]",
      "text/html": "<div>\n<style scoped>\n    .dataframe tbody tr th:only-of-type {\n        vertical-align: middle;\n    }\n\n    .dataframe tbody tr th {\n        vertical-align: top;\n    }\n\n    .dataframe thead th {\n        text-align: right;\n    }\n</style>\n<table border=\"1\" class=\"dataframe\">\n  <thead>\n    <tr style=\"text-align: right;\">\n      <th></th>\n      <th>log.audit</th>\n      <th>stream.documentum.documents</th>\n      <th>stream.ndid.evidence</th>\n      <th>stream.cbs-data.update</th>\n      <th>stream.transaction.limit</th>\n    </tr>\n    <tr>\n      <th>(Unnamed: 0_level_0, Unnamed: 0_level_1, Event_code)</th>\n      <th></th>\n      <th></th>\n      <th></th>\n      <th></th>\n      <th></th>\n    </tr>\n  </thead>\n  <tbody>\n    <tr>\n      <th>10001</th>\n      <td>True</td>\n      <td>NaN</td>\n      <td>NaN</td>\n      <td>NaN</td>\n      <td>NaN</td>\n    </tr>\n    <tr>\n      <th>10003</th>\n      <td>True</td>\n      <td>NaN</td>\n      <td>NaN</td>\n      <td>NaN</td>\n      <td>NaN</td>\n    </tr>\n    <tr>\n      <th>10004</th>\n      <td>True</td>\n      <td>NaN</td>\n      <td>NaN</td>\n      <td>NaN</td>\n      <td>NaN</td>\n    </tr>\n    <tr>\n      <th>10005</th>\n      <td>True</td>\n      <td>NaN</td>\n      <td>NaN</td>\n      <td>NaN</td>\n      <td>NaN</td>\n    </tr>\n    <tr>\n      <th>10009</th>\n      <td>True</td>\n      <td>NaN</td>\n      <td>NaN</td>\n      <td>NaN</td>\n      <td>NaN</td>\n    </tr>\n    <tr>\n      <th>...</th>\n      <td>...</td>\n      <td>...</td>\n      <td>...</td>\n      <td>...</td>\n      <td>...</td>\n    </tr>\n    <tr>\n      <th>42019</th>\n      <td>True</td>\n      <td>NaN</td>\n      <td>NaN</td>\n      <td>NaN</td>\n      <td>NaN</td>\n    </tr>\n    <tr>\n      <th>42020</th>\n      <td>True</td>\n      <td>NaN</td>\n      <td>NaN</td>\n      <td>NaN</td>\n      <td>NaN</td>\n    </tr>\n    <tr>\n      <th>40067</th>\n      <td>True</td>\n      <td>NaN</td>\n      <td>NaN</td>\n      <td>True</td>\n      <td>NaN</td>\n    </tr>\n    <tr>\n      <th>40068</th>\n      <td>True</td>\n      <td>NaN</td>\n      <td>NaN</td>\n      <td>True</td>\n      <td>NaN</td>\n    </tr>\n    <tr>\n      <th>22037</th>\n      <td>True</td>\n      <td>NaN</td>\n      <td>NaN</td>\n      <td>NaN</td>\n      <td>True</td>\n    </tr>\n  </tbody>\n</table>\n<p>191 rows × 5 columns</p>\n</div>"
     },
     "metadata": {},
     "execution_count": 39
    }
   ],
   "source": [
    "#Process eventEngine\n",
    "df_slice = data.loc[:,['eventEngine']].droplevel([0,1],axis=1)\n",
    "df_slice"
   ]
  },
  {
   "cell_type": "code",
   "execution_count": null,
   "metadata": {},
   "outputs": [],
   "source": [
    "targetTopics_list = ['targetTopics'] * len(df_slice.index)"
   ]
  },
  {
   "cell_type": "code",
   "execution_count": null,
   "metadata": {},
   "outputs": [],
   "source": [
    "test = []"
   ]
  },
  {
   "cell_type": "code",
   "execution_count": 50,
   "metadata": {
    "tags": []
   },
   "outputs": [
    {
     "output_type": "error",
     "ename": "IndexError",
     "evalue": "only integers, slices (`:`), ellipsis (`...`), numpy.newaxis (`None`) and integer or boolean arrays are valid indices",
     "traceback": [
      "\u001b[1;31m---------------------------------------------------------------------------\u001b[0m",
      "\u001b[1;31mIndexError\u001b[0m                                Traceback (most recent call last)",
      "\u001b[1;32m<ipython-input-50-3b937ea1c315>\u001b[0m in \u001b[0;36m<module>\u001b[1;34m\u001b[0m\n\u001b[1;32m----> 1\u001b[1;33m \u001b[0mdf_slice\u001b[0m\u001b[1;33m.\u001b[0m\u001b[0mcolumns\u001b[0m\u001b[1;33m[\u001b[0m\u001b[0mstr\u001b[0m\u001b[1;33m(\u001b[0m\u001b[1;33m(\u001b[0m\u001b[0mdf_slice\u001b[0m \u001b[1;33m==\u001b[0m \u001b[1;32mTrue\u001b[0m\u001b[1;33m)\u001b[0m\u001b[1;33m.\u001b[0m\u001b[0miloc\u001b[0m\u001b[1;33m[\u001b[0m\u001b[1;36m0\u001b[0m\u001b[1;33m]\u001b[0m\u001b[1;33m)\u001b[0m\u001b[1;33m]\u001b[0m\u001b[1;33m\u001b[0m\u001b[1;33m\u001b[0m\u001b[0m\n\u001b[0m",
      "\u001b[1;32m~\\Anaconda3\\lib\\site-packages\\pandas\\core\\indexes\\base.py\u001b[0m in \u001b[0;36m__getitem__\u001b[1;34m(self, key)\u001b[0m\n\u001b[0;32m   3928\u001b[0m         \u001b[1;32mif\u001b[0m \u001b[0mis_scalar\u001b[0m\u001b[1;33m(\u001b[0m\u001b[0mkey\u001b[0m\u001b[1;33m)\u001b[0m\u001b[1;33m:\u001b[0m\u001b[1;33m\u001b[0m\u001b[1;33m\u001b[0m\u001b[0m\n\u001b[0;32m   3929\u001b[0m             \u001b[0mkey\u001b[0m \u001b[1;33m=\u001b[0m \u001b[0mcom\u001b[0m\u001b[1;33m.\u001b[0m\u001b[0mcast_scalar_indexer\u001b[0m\u001b[1;33m(\u001b[0m\u001b[0mkey\u001b[0m\u001b[1;33m)\u001b[0m\u001b[1;33m\u001b[0m\u001b[1;33m\u001b[0m\u001b[0m\n\u001b[1;32m-> 3930\u001b[1;33m             \u001b[1;32mreturn\u001b[0m \u001b[0mgetitem\u001b[0m\u001b[1;33m(\u001b[0m\u001b[0mkey\u001b[0m\u001b[1;33m)\u001b[0m\u001b[1;33m\u001b[0m\u001b[1;33m\u001b[0m\u001b[0m\n\u001b[0m\u001b[0;32m   3931\u001b[0m \u001b[1;33m\u001b[0m\u001b[0m\n\u001b[0;32m   3932\u001b[0m         \u001b[1;32mif\u001b[0m \u001b[0misinstance\u001b[0m\u001b[1;33m(\u001b[0m\u001b[0mkey\u001b[0m\u001b[1;33m,\u001b[0m \u001b[0mslice\u001b[0m\u001b[1;33m)\u001b[0m\u001b[1;33m:\u001b[0m\u001b[1;33m\u001b[0m\u001b[1;33m\u001b[0m\u001b[0m\n",
      "\u001b[1;31mIndexError\u001b[0m: only integers, slices (`:`), ellipsis (`...`), numpy.newaxis (`None`) and integer or boolean arrays are valid indices"
     ]
    }
   ],
   "source": [
    "df_slice.columns[str((df_slice == True).iloc[0])]"
   ]
  },
  {
   "cell_type": "code",
   "execution_count": 42,
   "metadata": {},
   "outputs": [
    {
     "output_type": "error",
     "ename": "IndexError",
     "evalue": "too many indices for array",
     "traceback": [
      "\u001b[1;31m---------------------------------------------------------------------------\u001b[0m",
      "\u001b[1;31mIndexError\u001b[0m                                Traceback (most recent call last)",
      "\u001b[1;32m<ipython-input-42-d520822adf5b>\u001b[0m in \u001b[0;36m<module>\u001b[1;34m\u001b[0m\n\u001b[1;32m----> 1\u001b[1;33m \u001b[0mdf_slice\u001b[0m\u001b[1;33m.\u001b[0m\u001b[0mcolumns\u001b[0m\u001b[1;33m[\u001b[0m\u001b[1;33m(\u001b[0m\u001b[0mdf_slice\u001b[0m \u001b[1;33m==\u001b[0m \u001b[1;32mTrue\u001b[0m\u001b[1;33m)\u001b[0m\u001b[1;33m.\u001b[0m\u001b[0miloc\u001b[0m\u001b[1;33m[\u001b[0m\u001b[1;33m:\u001b[0m\u001b[1;33m,\u001b[0m\u001b[1;33m:\u001b[0m\u001b[1;33m]\u001b[0m\u001b[1;33m]\u001b[0m\u001b[1;33m\u001b[0m\u001b[1;33m\u001b[0m\u001b[0m\n\u001b[0m",
      "\u001b[1;32m~\\Anaconda3\\lib\\site-packages\\pandas\\core\\indexes\\base.py\u001b[0m in \u001b[0;36m__getitem__\u001b[1;34m(self, key)\u001b[0m\n\u001b[0;32m   3939\u001b[0m \u001b[1;33m\u001b[0m\u001b[0m\n\u001b[0;32m   3940\u001b[0m         \u001b[0mkey\u001b[0m \u001b[1;33m=\u001b[0m \u001b[0mcom\u001b[0m\u001b[1;33m.\u001b[0m\u001b[0mvalues_from_object\u001b[0m\u001b[1;33m(\u001b[0m\u001b[0mkey\u001b[0m\u001b[1;33m)\u001b[0m\u001b[1;33m\u001b[0m\u001b[1;33m\u001b[0m\u001b[0m\n\u001b[1;32m-> 3941\u001b[1;33m         \u001b[0mresult\u001b[0m \u001b[1;33m=\u001b[0m \u001b[0mgetitem\u001b[0m\u001b[1;33m(\u001b[0m\u001b[0mkey\u001b[0m\u001b[1;33m)\u001b[0m\u001b[1;33m\u001b[0m\u001b[1;33m\u001b[0m\u001b[0m\n\u001b[0m\u001b[0;32m   3942\u001b[0m         \u001b[1;32mif\u001b[0m \u001b[1;32mnot\u001b[0m \u001b[0mis_scalar\u001b[0m\u001b[1;33m(\u001b[0m\u001b[0mresult\u001b[0m\u001b[1;33m)\u001b[0m\u001b[1;33m:\u001b[0m\u001b[1;33m\u001b[0m\u001b[1;33m\u001b[0m\u001b[0m\n\u001b[0;32m   3943\u001b[0m             \u001b[1;32mif\u001b[0m \u001b[0mnp\u001b[0m\u001b[1;33m.\u001b[0m\u001b[0mndim\u001b[0m\u001b[1;33m(\u001b[0m\u001b[0mresult\u001b[0m\u001b[1;33m)\u001b[0m \u001b[1;33m>\u001b[0m \u001b[1;36m1\u001b[0m\u001b[1;33m:\u001b[0m\u001b[1;33m\u001b[0m\u001b[1;33m\u001b[0m\u001b[0m\n",
      "\u001b[1;31mIndexError\u001b[0m: too many indices for array"
     ]
    }
   ],
   "source": [
    "for i in len(df_slice.index):\n",
    "    df_slice.columns[(df_slice == True).iloc[i]]\n",
    "    "
   ]
  },
  {
   "cell_type": "code",
   "execution_count": 45,
   "metadata": {},
   "outputs": [
    {
     "output_type": "execute_result",
     "data": {
      "text/plain": "                                                    log.audit  \\\n(Unnamed: 0_level_0, Unnamed: 0_level_1, Event_...              \n10001                                                    True   \n10003                                                    True   \n10004                                                    True   \n10005                                                    True   \n10009                                                    True   \n...                                                       ...   \n42019                                                    True   \n42020                                                    True   \n40067                                                    True   \n40068                                                    True   \n22037                                                    True   \n\n                                                    stream.documentum.documents  \\\n(Unnamed: 0_level_0, Unnamed: 0_level_1, Event_...                                \n10001                                                                     False   \n10003                                                                     False   \n10004                                                                     False   \n10005                                                                     False   \n10009                                                                     False   \n...                                                                         ...   \n42019                                                                     False   \n42020                                                                     False   \n40067                                                                     False   \n40068                                                                     False   \n22037                                                                     False   \n\n                                                    stream.ndid.evidence  \\\n(Unnamed: 0_level_0, Unnamed: 0_level_1, Event_...                         \n10001                                                              False   \n10003                                                              False   \n10004                                                              False   \n10005                                                              False   \n10009                                                              False   \n...                                                                  ...   \n42019                                                              False   \n42020                                                              False   \n40067                                                              False   \n40068                                                              False   \n22037                                                              False   \n\n                                                    stream.cbs-data.update  \\\n(Unnamed: 0_level_0, Unnamed: 0_level_1, Event_...                           \n10001                                                                False   \n10003                                                                False   \n10004                                                                False   \n10005                                                                False   \n10009                                                                False   \n...                                                                    ...   \n42019                                                                False   \n42020                                                                False   \n40067                                                                 True   \n40068                                                                 True   \n22037                                                                False   \n\n                                                    stream.transaction.limit  \n(Unnamed: 0_level_0, Unnamed: 0_level_1, Event_...                            \n10001                                                                  False  \n10003                                                                  False  \n10004                                                                  False  \n10005                                                                  False  \n10009                                                                  False  \n...                                                                      ...  \n42019                                                                  False  \n42020                                                                  False  \n40067                                                                  False  \n40068                                                                  False  \n22037                                                                   True  \n\n[191 rows x 5 columns]",
      "text/html": "<div>\n<style scoped>\n    .dataframe tbody tr th:only-of-type {\n        vertical-align: middle;\n    }\n\n    .dataframe tbody tr th {\n        vertical-align: top;\n    }\n\n    .dataframe thead th {\n        text-align: right;\n    }\n</style>\n<table border=\"1\" class=\"dataframe\">\n  <thead>\n    <tr style=\"text-align: right;\">\n      <th></th>\n      <th>log.audit</th>\n      <th>stream.documentum.documents</th>\n      <th>stream.ndid.evidence</th>\n      <th>stream.cbs-data.update</th>\n      <th>stream.transaction.limit</th>\n    </tr>\n    <tr>\n      <th>(Unnamed: 0_level_0, Unnamed: 0_level_1, Event_code)</th>\n      <th></th>\n      <th></th>\n      <th></th>\n      <th></th>\n      <th></th>\n    </tr>\n  </thead>\n  <tbody>\n    <tr>\n      <th>10001</th>\n      <td>True</td>\n      <td>False</td>\n      <td>False</td>\n      <td>False</td>\n      <td>False</td>\n    </tr>\n    <tr>\n      <th>10003</th>\n      <td>True</td>\n      <td>False</td>\n      <td>False</td>\n      <td>False</td>\n      <td>False</td>\n    </tr>\n    <tr>\n      <th>10004</th>\n      <td>True</td>\n      <td>False</td>\n      <td>False</td>\n      <td>False</td>\n      <td>False</td>\n    </tr>\n    <tr>\n      <th>10005</th>\n      <td>True</td>\n      <td>False</td>\n      <td>False</td>\n      <td>False</td>\n      <td>False</td>\n    </tr>\n    <tr>\n      <th>10009</th>\n      <td>True</td>\n      <td>False</td>\n      <td>False</td>\n      <td>False</td>\n      <td>False</td>\n    </tr>\n    <tr>\n      <th>...</th>\n      <td>...</td>\n      <td>...</td>\n      <td>...</td>\n      <td>...</td>\n      <td>...</td>\n    </tr>\n    <tr>\n      <th>42019</th>\n      <td>True</td>\n      <td>False</td>\n      <td>False</td>\n      <td>False</td>\n      <td>False</td>\n    </tr>\n    <tr>\n      <th>42020</th>\n      <td>True</td>\n      <td>False</td>\n      <td>False</td>\n      <td>False</td>\n      <td>False</td>\n    </tr>\n    <tr>\n      <th>40067</th>\n      <td>True</td>\n      <td>False</td>\n      <td>False</td>\n      <td>True</td>\n      <td>False</td>\n    </tr>\n    <tr>\n      <th>40068</th>\n      <td>True</td>\n      <td>False</td>\n      <td>False</td>\n      <td>True</td>\n      <td>False</td>\n    </tr>\n    <tr>\n      <th>22037</th>\n      <td>True</td>\n      <td>False</td>\n      <td>False</td>\n      <td>False</td>\n      <td>True</td>\n    </tr>\n  </tbody>\n</table>\n<p>191 rows × 5 columns</p>\n</div>"
     },
     "metadata": {},
     "execution_count": 45
    }
   ],
   "source": [
    "df_slice == True"
   ]
  }
 ],
 "metadata": {
  "kernelspec": {
   "name": "python_defaultSpec_1595324403713",
   "language": "python",
   "display_name": "Python 3.7.6 64-bit ('base': conda)"
  },
  "language_info": {
   "codemirror_mode": {
    "name": "ipython",
    "version": 2
   },
   "file_extension": ".py",
   "mimetype": "text/x-python",
   "name": "python",
   "nbconvert_exporter": "python",
   "pygments_lexer": "ipython2",
   "version": "2.7.6"
  }
 },
 "nbformat": 4,
 "nbformat_minor": 0
}