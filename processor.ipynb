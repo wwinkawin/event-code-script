{
 "cells": [
  {
   "cell_type": "code",
   "execution_count": 345,
   "metadata": {
    "collapsed": true
   },
   "outputs": [],
   "source": [
    "import pandas as pd\n",
    "import numpy as np\n",
    "import json"
   ]
  },
  {
   "cell_type": "code",
   "execution_count": 346,
   "outputs": [],
   "source": [
    "data_dict = {}"
   ],
   "metadata": {
    "collapsed": false,
    "pycharm": {
     "name": "#%%\n"
    }
   }
  },
  {
   "cell_type": "code",
   "source": [
    "_raw_data = pd.read_excel('AD_To_Fill_Event_Code_Configuration_v1.0.xlsx', header=list(range(4)), skipinitialspace=True, tupleize_cols=True, sheet_name = \"6) Event code generater\")"
   ],
   "metadata": {
    "collapsed": false,
    "pycharm": {
     "name": "#%%\n"
    }
   },
   "execution_count": 347,
   "outputs": []
  },
  {
   "cell_type": "code",
   "execution_count": 348,
   "metadata": {},
   "outputs": [],
   "source": [
    "data = _raw_data.copy()"
   ]
  },
  {
   "cell_type": "code",
   "execution_count": 349,
   "metadata": {},
   "outputs": [],
   "source": [
    "#Drop level from \n",
    "data.columns = pd.MultiIndex.from_tuples(data.columns).droplevel(2)\n",
    "\n",
    "#Only keep frist 22 cols\n",
    "data = data.iloc[:,:22]"
   ]
  },
  {
   "cell_type": "code",
   "execution_count": 350,
   "metadata": {},
   "outputs": [
    {
     "output_type": "execute_result",
     "data": {
      "text/plain": "  Unnamed: 0_level_0 Unnamed: 1_level_0 Unnamed: 2_level_0               type  \\\n  Unnamed: 0_level_1 Unnamed: 1_level_1 Unnamed: 2_level_1 Unnamed: 3_level_1   \n          Event_code         Event type           SIT Drop           Category   \n0              10001              Audit        MVP1 Drop 1              Login   \n1              10003              Audit        MVP1 Drop 1              Login   \n2              10004              Audit        MVP1 Drop 1              Login   \n3              10005              Audit        MVP1 Drop 1              Login   \n4              10009              Audit        MVP1 Drop 3      Registration    \n\n                           activityType                           category  \\\n  Unnamed: 4_level_1 Unnamed: 5_level_1                 Unnamed: 6_level_1   \n           Epic Link     Activity type  Category (Financial/Non-financial)   \n0              Login              Login                      Non-financial   \n1              Login              Login                      Non-financial   \n2              Login              Login                      Non-financial   \n3              Login              Login                      Non-financial   \n4       Registration       Registration                      Non-financial   \n\n                      description  eventEngine                              \\\n               Unnamed: 7_level_1 targetTopics                               \n                      Description    log.audit stream.documentum.documents   \n0                       PIN Login            Y                         NaN   \n1                 Biometric Login            Y                         NaN   \n2        NEXT Term and Conditions            Y                         NaN   \n3                          Logout            Y                         NaN   \n4  Registration - ID verification            Y                         NaN   \n\n   ...                           commsEngine                             \\\n   ...                          targetTopics                              \n   ... stream.transaction.limit   push.email push.sms push.notification   \n0  ...                      NaN            Y      NaN               NaN   \n1  ...                      NaN            Y      NaN               NaN   \n2  ...                      NaN          NaN      NaN                 Y   \n3  ...                      NaN          NaN      NaN               NaN   \n4  ...                      NaN          NaN      NaN               NaN   \n\n                                                               \\\n  fromPreference                                  fromProfile   \n      isRequired                    requiredField  isRequired   \n0              Y  isLoginEmailNotificationEnabled           Y   \n1              Y  isLoginEmailNotificationEnabled           Y   \n2            NaN                              NaN           Y   \n3            NaN                              NaN         NaN   \n4            NaN                              NaN         NaN   \n\n                             transactionAccumulator        \n            pushNotification        transactionType        \n  isImmediateRoutingRequired                    OWN OTHER  \n0                        NaN                    NaN   NaN  \n1                        NaN                    NaN   NaN  \n2                        NaN                    NaN   NaN  \n3                        NaN                    NaN   NaN  \n4                        NaN                    NaN   NaN  \n\n[5 rows x 22 columns]",
      "text/html": "<div>\n<style scoped>\n    .dataframe tbody tr th:only-of-type {\n        vertical-align: middle;\n    }\n\n    .dataframe tbody tr th {\n        vertical-align: top;\n    }\n\n    .dataframe thead tr th {\n        text-align: left;\n    }\n</style>\n<table border=\"1\" class=\"dataframe\">\n  <thead>\n    <tr>\n      <th></th>\n      <th>Unnamed: 0_level_0</th>\n      <th>Unnamed: 1_level_0</th>\n      <th>Unnamed: 2_level_0</th>\n      <th colspan=\"2\" halign=\"left\">type</th>\n      <th>activityType</th>\n      <th>category</th>\n      <th>description</th>\n      <th colspan=\"4\" halign=\"left\">eventEngine</th>\n      <th colspan=\"7\" halign=\"left\">commsEngine</th>\n      <th colspan=\"2\" halign=\"left\">transactionAccumulator</th>\n    </tr>\n    <tr>\n      <th></th>\n      <th>Unnamed: 0_level_1</th>\n      <th>Unnamed: 1_level_1</th>\n      <th>Unnamed: 2_level_1</th>\n      <th>Unnamed: 3_level_1</th>\n      <th>Unnamed: 4_level_1</th>\n      <th>Unnamed: 5_level_1</th>\n      <th>Unnamed: 6_level_1</th>\n      <th>Unnamed: 7_level_1</th>\n      <th colspan=\"4\" halign=\"left\">targetTopics</th>\n      <th colspan=\"3\" halign=\"left\">targetTopics</th>\n      <th colspan=\"2\" halign=\"left\">fromPreference</th>\n      <th>fromProfile</th>\n      <th>pushNotification</th>\n      <th colspan=\"2\" halign=\"left\">transactionType</th>\n    </tr>\n    <tr>\n      <th></th>\n      <th>Event_code</th>\n      <th>Event type</th>\n      <th>SIT Drop</th>\n      <th>Category</th>\n      <th>Epic Link</th>\n      <th>Activity type</th>\n      <th>Category (Financial/Non-financial)</th>\n      <th>Description</th>\n      <th>log.audit</th>\n      <th>stream.documentum.documents</th>\n      <th>...</th>\n      <th>stream.transaction.limit</th>\n      <th>push.email</th>\n      <th>push.sms</th>\n      <th>push.notification</th>\n      <th>isRequired</th>\n      <th>requiredField</th>\n      <th>isRequired</th>\n      <th>isImmediateRoutingRequired</th>\n      <th>OWN</th>\n      <th>OTHER</th>\n    </tr>\n  </thead>\n  <tbody>\n    <tr>\n      <th>0</th>\n      <td>10001</td>\n      <td>Audit</td>\n      <td>MVP1 Drop 1</td>\n      <td>Login</td>\n      <td>Login</td>\n      <td>Login</td>\n      <td>Non-financial</td>\n      <td>PIN Login</td>\n      <td>Y</td>\n      <td>NaN</td>\n      <td>...</td>\n      <td>NaN</td>\n      <td>Y</td>\n      <td>NaN</td>\n      <td>NaN</td>\n      <td>Y</td>\n      <td>isLoginEmailNotificationEnabled</td>\n      <td>Y</td>\n      <td>NaN</td>\n      <td>NaN</td>\n      <td>NaN</td>\n    </tr>\n    <tr>\n      <th>1</th>\n      <td>10003</td>\n      <td>Audit</td>\n      <td>MVP1 Drop 1</td>\n      <td>Login</td>\n      <td>Login</td>\n      <td>Login</td>\n      <td>Non-financial</td>\n      <td>Biometric Login</td>\n      <td>Y</td>\n      <td>NaN</td>\n      <td>...</td>\n      <td>NaN</td>\n      <td>Y</td>\n      <td>NaN</td>\n      <td>NaN</td>\n      <td>Y</td>\n      <td>isLoginEmailNotificationEnabled</td>\n      <td>Y</td>\n      <td>NaN</td>\n      <td>NaN</td>\n      <td>NaN</td>\n    </tr>\n    <tr>\n      <th>2</th>\n      <td>10004</td>\n      <td>Audit</td>\n      <td>MVP1 Drop 1</td>\n      <td>Login</td>\n      <td>Login</td>\n      <td>Login</td>\n      <td>Non-financial</td>\n      <td>NEXT Term and Conditions</td>\n      <td>Y</td>\n      <td>NaN</td>\n      <td>...</td>\n      <td>NaN</td>\n      <td>NaN</td>\n      <td>NaN</td>\n      <td>Y</td>\n      <td>NaN</td>\n      <td>NaN</td>\n      <td>Y</td>\n      <td>NaN</td>\n      <td>NaN</td>\n      <td>NaN</td>\n    </tr>\n    <tr>\n      <th>3</th>\n      <td>10005</td>\n      <td>Audit</td>\n      <td>MVP1 Drop 1</td>\n      <td>Login</td>\n      <td>Login</td>\n      <td>Login</td>\n      <td>Non-financial</td>\n      <td>Logout</td>\n      <td>Y</td>\n      <td>NaN</td>\n      <td>...</td>\n      <td>NaN</td>\n      <td>NaN</td>\n      <td>NaN</td>\n      <td>NaN</td>\n      <td>NaN</td>\n      <td>NaN</td>\n      <td>NaN</td>\n      <td>NaN</td>\n      <td>NaN</td>\n      <td>NaN</td>\n    </tr>\n    <tr>\n      <th>4</th>\n      <td>10009</td>\n      <td>Audit</td>\n      <td>MVP1 Drop 3</td>\n      <td>Registration</td>\n      <td>Registration</td>\n      <td>Registration</td>\n      <td>Non-financial</td>\n      <td>Registration - ID verification</td>\n      <td>Y</td>\n      <td>NaN</td>\n      <td>...</td>\n      <td>NaN</td>\n      <td>NaN</td>\n      <td>NaN</td>\n      <td>NaN</td>\n      <td>NaN</td>\n      <td>NaN</td>\n      <td>NaN</td>\n      <td>NaN</td>\n      <td>NaN</td>\n      <td>NaN</td>\n    </tr>\n  </tbody>\n</table>\n<p>5 rows × 22 columns</p>\n</div>"
     },
     "metadata": {},
     "execution_count": 350
    }
   ],
   "source": [
    "data.head()"
   ]
  },
  {
   "cell_type": "markdown",
   "metadata": {},
   "source": [
    "#Replace Y with True values\n",
    "data = data.replace(to_replace =[\"Y\"],  value = True)"
   ]
  },
  {
   "cell_type": "code",
   "execution_count": 351,
   "outputs": [],
   "source": [
    "data.set_index(data.iloc[:,0], drop= True, inplace= True)"
   ],
   "metadata": {
    "collapsed": false,
    "pycharm": {
     "name": "#%%\n"
    },
    "tags": []
   }
  },
  {
   "cell_type": "code",
   "execution_count": 352,
   "metadata": {},
   "outputs": [],
   "source": [
    "data.drop(labels= data.columns[0], axis= 'columns',inplace= True)"
   ]
  },
  {
   "cell_type": "code",
   "execution_count": 353,
   "metadata": {},
   "outputs": [
    {
     "output_type": "execute_result",
     "data": {
      "text/plain": "                                                   Unnamed: 1_level_0  \\\n                                                   Unnamed: 1_level_1   \n                                                           Event type   \n(Unnamed: 0_level_0, Unnamed: 0_level_1, Event_...                      \n10001                                                           Audit   \n10003                                                           Audit   \n10004                                                           Audit   \n10005                                                           Audit   \n10009                                                           Audit   \n\n                                                   Unnamed: 2_level_0  \\\n                                                   Unnamed: 2_level_1   \n                                                             SIT Drop   \n(Unnamed: 0_level_0, Unnamed: 0_level_1, Event_...                      \n10001                                                     MVP1 Drop 1   \n10003                                                     MVP1 Drop 1   \n10004                                                     MVP1 Drop 1   \n10005                                                     MVP1 Drop 1   \n10009                                                     MVP1 Drop 3   \n\n                                                                 type  \\\n                                                   Unnamed: 3_level_1   \n                                                             Category   \n(Unnamed: 0_level_0, Unnamed: 0_level_1, Event_...                      \n10001                                                           Login   \n10003                                                           Login   \n10004                                                           Login   \n10005                                                           Login   \n10009                                                   Registration    \n\n                                                                       \\\n                                                   Unnamed: 4_level_1   \n                                                            Epic Link   \n(Unnamed: 0_level_0, Unnamed: 0_level_1, Event_...                      \n10001                                                           Login   \n10003                                                           Login   \n10004                                                           Login   \n10005                                                           Login   \n10009                                                    Registration   \n\n                                                         activityType  \\\n                                                   Unnamed: 5_level_1   \n                                                       Activity type    \n(Unnamed: 0_level_0, Unnamed: 0_level_1, Event_...                      \n10001                                                           Login   \n10003                                                           Login   \n10004                                                           Login   \n10005                                                           Login   \n10009                                                    Registration   \n\n                                                                             category  \\\n                                                                   Unnamed: 6_level_1   \n                                                   Category (Financial/Non-financial)   \n(Unnamed: 0_level_0, Unnamed: 0_level_1, Event_...                                      \n10001                                                                   Non-financial   \n10003                                                                   Non-financial   \n10004                                                                   Non-financial   \n10005                                                                   Non-financial   \n10009                                                                   Non-financial   \n\n                                                                       description  \\\n                                                                Unnamed: 7_level_1   \n                                                                       Description   \n(Unnamed: 0_level_0, Unnamed: 0_level_1, Event_...                                   \n10001                                                                    PIN Login   \n10003                                                              Biometric Login   \n10004                                                     NEXT Term and Conditions   \n10005                                                                       Logout   \n10009                                               Registration - ID verification   \n\n                                                    eventEngine  \\\n                                                   targetTopics   \n                                                      log.audit   \n(Unnamed: 0_level_0, Unnamed: 0_level_1, Event_...                \n10001                                                         Y   \n10003                                                         Y   \n10004                                                         Y   \n10005                                                         Y   \n10009                                                         Y   \n\n                                                                                \\\n                                                                                 \n                                                   stream.documentum.documents   \n(Unnamed: 0_level_0, Unnamed: 0_level_1, Event_...                               \n10001                                                                      NaN   \n10003                                                                      NaN   \n10004                                                                      NaN   \n10005                                                                      NaN   \n10009                                                                      NaN   \n\n                                                                         ...  \\\n                                                                         ...   \n                                                   stream.ndid.evidence  ...   \n(Unnamed: 0_level_0, Unnamed: 0_level_1, Event_...                       ...   \n10001                                                               NaN  ...   \n10003                                                               NaN  ...   \n10004                                                               NaN  ...   \n10005                                                               NaN  ...   \n10009                                                               NaN  ...   \n\n                                                                             \\\n                                                                              \n                                                   stream.transaction.limit   \n(Unnamed: 0_level_0, Unnamed: 0_level_1, Event_...                            \n10001                                                                   NaN   \n10003                                                                   NaN   \n10004                                                                   NaN   \n10005                                                                   NaN   \n10009                                                                   NaN   \n\n                                                    commsEngine           \\\n                                                   targetTopics            \n                                                     push.email push.sms   \n(Unnamed: 0_level_0, Unnamed: 0_level_1, Event_...                         \n10001                                                         Y      NaN   \n10003                                                         Y      NaN   \n10004                                                       NaN      NaN   \n10005                                                       NaN      NaN   \n10009                                                       NaN      NaN   \n\n                                                                      \\\n                                                                       \n                                                   push.notification   \n(Unnamed: 0_level_0, Unnamed: 0_level_1, Event_...                     \n10001                                                            NaN   \n10003                                                            NaN   \n10004                                                              Y   \n10005                                                            NaN   \n10009                                                            NaN   \n\n                                                                   \\\n                                                   fromPreference   \n                                                       isRequired   \n(Unnamed: 0_level_0, Unnamed: 0_level_1, Event_...                  \n10001                                                           Y   \n10003                                                           Y   \n10004                                                         NaN   \n10005                                                         NaN   \n10009                                                         NaN   \n\n                                                                                     \\\n                                                                                      \n                                                                      requiredField   \n(Unnamed: 0_level_0, Unnamed: 0_level_1, Event_...                                    \n10001                                               isLoginEmailNotificationEnabled   \n10003                                               isLoginEmailNotificationEnabled   \n10004                                                                           NaN   \n10005                                                                           NaN   \n10009                                                                           NaN   \n\n                                                                \\\n                                                   fromProfile   \n                                                    isRequired   \n(Unnamed: 0_level_0, Unnamed: 0_level_1, Event_...               \n10001                                                        Y   \n10003                                                        Y   \n10004                                                        Y   \n10005                                                      NaN   \n10009                                                      NaN   \n\n                                                                               \\\n                                                             pushNotification   \n                                                   isImmediateRoutingRequired   \n(Unnamed: 0_level_0, Unnamed: 0_level_1, Event_...                              \n10001                                                                     NaN   \n10003                                                                     NaN   \n10004                                                                     NaN   \n10005                                                                     NaN   \n10009                                                                     NaN   \n\n                                                   transactionAccumulator  \\\n                                                          transactionType   \n                                                                      OWN   \n(Unnamed: 0_level_0, Unnamed: 0_level_1, Event_...                          \n10001                                                                 NaN   \n10003                                                                 NaN   \n10004                                                                 NaN   \n10005                                                                 NaN   \n10009                                                                 NaN   \n\n                                                          \n                                                          \n                                                   OTHER  \n(Unnamed: 0_level_0, Unnamed: 0_level_1, Event_...        \n10001                                                NaN  \n10003                                                NaN  \n10004                                                NaN  \n10005                                                NaN  \n10009                                                NaN  \n\n[5 rows x 21 columns]",
      "text/html": "<div>\n<style scoped>\n    .dataframe tbody tr th:only-of-type {\n        vertical-align: middle;\n    }\n\n    .dataframe tbody tr th {\n        vertical-align: top;\n    }\n\n    .dataframe thead tr th {\n        text-align: left;\n    }\n\n    .dataframe thead tr:last-of-type th {\n        text-align: right;\n    }\n</style>\n<table border=\"1\" class=\"dataframe\">\n  <thead>\n    <tr>\n      <th></th>\n      <th>Unnamed: 1_level_0</th>\n      <th>Unnamed: 2_level_0</th>\n      <th colspan=\"2\" halign=\"left\">type</th>\n      <th>activityType</th>\n      <th>category</th>\n      <th>description</th>\n      <th colspan=\"5\" halign=\"left\">eventEngine</th>\n      <th colspan=\"7\" halign=\"left\">commsEngine</th>\n      <th colspan=\"2\" halign=\"left\">transactionAccumulator</th>\n    </tr>\n    <tr>\n      <th></th>\n      <th>Unnamed: 1_level_1</th>\n      <th>Unnamed: 2_level_1</th>\n      <th>Unnamed: 3_level_1</th>\n      <th>Unnamed: 4_level_1</th>\n      <th>Unnamed: 5_level_1</th>\n      <th>Unnamed: 6_level_1</th>\n      <th>Unnamed: 7_level_1</th>\n      <th colspan=\"5\" halign=\"left\">targetTopics</th>\n      <th colspan=\"3\" halign=\"left\">targetTopics</th>\n      <th colspan=\"2\" halign=\"left\">fromPreference</th>\n      <th>fromProfile</th>\n      <th>pushNotification</th>\n      <th colspan=\"2\" halign=\"left\">transactionType</th>\n    </tr>\n    <tr>\n      <th></th>\n      <th>Event type</th>\n      <th>SIT Drop</th>\n      <th>Category</th>\n      <th>Epic Link</th>\n      <th>Activity type</th>\n      <th>Category (Financial/Non-financial)</th>\n      <th>Description</th>\n      <th>log.audit</th>\n      <th>stream.documentum.documents</th>\n      <th>stream.ndid.evidence</th>\n      <th>...</th>\n      <th>stream.transaction.limit</th>\n      <th>push.email</th>\n      <th>push.sms</th>\n      <th>push.notification</th>\n      <th>isRequired</th>\n      <th>requiredField</th>\n      <th>isRequired</th>\n      <th>isImmediateRoutingRequired</th>\n      <th>OWN</th>\n      <th>OTHER</th>\n    </tr>\n    <tr>\n      <th>(Unnamed: 0_level_0, Unnamed: 0_level_1, Event_code)</th>\n      <th></th>\n      <th></th>\n      <th></th>\n      <th></th>\n      <th></th>\n      <th></th>\n      <th></th>\n      <th></th>\n      <th></th>\n      <th></th>\n      <th></th>\n      <th></th>\n      <th></th>\n      <th></th>\n      <th></th>\n      <th></th>\n      <th></th>\n      <th></th>\n      <th></th>\n      <th></th>\n      <th></th>\n    </tr>\n  </thead>\n  <tbody>\n    <tr>\n      <th>10001</th>\n      <td>Audit</td>\n      <td>MVP1 Drop 1</td>\n      <td>Login</td>\n      <td>Login</td>\n      <td>Login</td>\n      <td>Non-financial</td>\n      <td>PIN Login</td>\n      <td>Y</td>\n      <td>NaN</td>\n      <td>NaN</td>\n      <td>...</td>\n      <td>NaN</td>\n      <td>Y</td>\n      <td>NaN</td>\n      <td>NaN</td>\n      <td>Y</td>\n      <td>isLoginEmailNotificationEnabled</td>\n      <td>Y</td>\n      <td>NaN</td>\n      <td>NaN</td>\n      <td>NaN</td>\n    </tr>\n    <tr>\n      <th>10003</th>\n      <td>Audit</td>\n      <td>MVP1 Drop 1</td>\n      <td>Login</td>\n      <td>Login</td>\n      <td>Login</td>\n      <td>Non-financial</td>\n      <td>Biometric Login</td>\n      <td>Y</td>\n      <td>NaN</td>\n      <td>NaN</td>\n      <td>...</td>\n      <td>NaN</td>\n      <td>Y</td>\n      <td>NaN</td>\n      <td>NaN</td>\n      <td>Y</td>\n      <td>isLoginEmailNotificationEnabled</td>\n      <td>Y</td>\n      <td>NaN</td>\n      <td>NaN</td>\n      <td>NaN</td>\n    </tr>\n    <tr>\n      <th>10004</th>\n      <td>Audit</td>\n      <td>MVP1 Drop 1</td>\n      <td>Login</td>\n      <td>Login</td>\n      <td>Login</td>\n      <td>Non-financial</td>\n      <td>NEXT Term and Conditions</td>\n      <td>Y</td>\n      <td>NaN</td>\n      <td>NaN</td>\n      <td>...</td>\n      <td>NaN</td>\n      <td>NaN</td>\n      <td>NaN</td>\n      <td>Y</td>\n      <td>NaN</td>\n      <td>NaN</td>\n      <td>Y</td>\n      <td>NaN</td>\n      <td>NaN</td>\n      <td>NaN</td>\n    </tr>\n    <tr>\n      <th>10005</th>\n      <td>Audit</td>\n      <td>MVP1 Drop 1</td>\n      <td>Login</td>\n      <td>Login</td>\n      <td>Login</td>\n      <td>Non-financial</td>\n      <td>Logout</td>\n      <td>Y</td>\n      <td>NaN</td>\n      <td>NaN</td>\n      <td>...</td>\n      <td>NaN</td>\n      <td>NaN</td>\n      <td>NaN</td>\n      <td>NaN</td>\n      <td>NaN</td>\n      <td>NaN</td>\n      <td>NaN</td>\n      <td>NaN</td>\n      <td>NaN</td>\n      <td>NaN</td>\n    </tr>\n    <tr>\n      <th>10009</th>\n      <td>Audit</td>\n      <td>MVP1 Drop 3</td>\n      <td>Registration</td>\n      <td>Registration</td>\n      <td>Registration</td>\n      <td>Non-financial</td>\n      <td>Registration - ID verification</td>\n      <td>Y</td>\n      <td>NaN</td>\n      <td>NaN</td>\n      <td>...</td>\n      <td>NaN</td>\n      <td>NaN</td>\n      <td>NaN</td>\n      <td>NaN</td>\n      <td>NaN</td>\n      <td>NaN</td>\n      <td>NaN</td>\n      <td>NaN</td>\n      <td>NaN</td>\n      <td>NaN</td>\n    </tr>\n  </tbody>\n</table>\n<p>5 rows × 21 columns</p>\n</div>"
     },
     "metadata": {},
     "execution_count": 353
    }
   ],
   "source": [
    "data.head()"
   ]
  },
  {
   "cell_type": "markdown",
   "metadata": {},
   "source": [
    "## Process description category activityType type"
   ]
  },
  {
   "cell_type": "code",
   "execution_count": 354,
   "metadata": {},
   "outputs": [],
   "source": [
    "df_slice = data.iloc[:,[2,4,5,6]]\n",
    "df_slice = df_slice.droplevel([1,2],axis=1)"
   ]
  },
  {
   "cell_type": "code",
   "execution_count": 355,
   "metadata": {
    "tags": []
   },
   "outputs": [],
   "source": [
    "data_dict  =  df_slice.to_dict('index')"
   ]
  },
  {
   "cell_type": "markdown",
   "metadata": {},
   "source": [
    "## Process eventEngine"
   ]
  },
  {
   "cell_type": "markdown",
   "metadata": {},
   "source": [
    "### Slice related columns"
   ]
  },
  {
   "cell_type": "code",
   "execution_count": 356,
   "metadata": {},
   "outputs": [
    {
     "output_type": "execute_result",
     "data": {
      "text/plain": "                                                   log.audit  \\\n(Unnamed: 0_level_0, Unnamed: 0_level_1, Event_...             \n10001                                                      Y   \n10003                                                      Y   \n10004                                                      Y   \n10005                                                      Y   \n10009                                                      Y   \n\n                                                   stream.documentum.documents  \\\n(Unnamed: 0_level_0, Unnamed: 0_level_1, Event_...                               \n10001                                                                      NaN   \n10003                                                                      NaN   \n10004                                                                      NaN   \n10005                                                                      NaN   \n10009                                                                      NaN   \n\n                                                   stream.ndid.evidence  \\\n(Unnamed: 0_level_0, Unnamed: 0_level_1, Event_...                        \n10001                                                               NaN   \n10003                                                               NaN   \n10004                                                               NaN   \n10005                                                               NaN   \n10009                                                               NaN   \n\n                                                   stream.cbs-data.update  \\\n(Unnamed: 0_level_0, Unnamed: 0_level_1, Event_...                          \n10001                                                                 NaN   \n10003                                                                 NaN   \n10004                                                                 NaN   \n10005                                                                 NaN   \n10009                                                                 NaN   \n\n                                                   stream.transaction.limit  \n(Unnamed: 0_level_0, Unnamed: 0_level_1, Event_...                           \n10001                                                                   NaN  \n10003                                                                   NaN  \n10004                                                                   NaN  \n10005                                                                   NaN  \n10009                                                                   NaN  ",
      "text/html": "<div>\n<style scoped>\n    .dataframe tbody tr th:only-of-type {\n        vertical-align: middle;\n    }\n\n    .dataframe tbody tr th {\n        vertical-align: top;\n    }\n\n    .dataframe thead th {\n        text-align: right;\n    }\n</style>\n<table border=\"1\" class=\"dataframe\">\n  <thead>\n    <tr style=\"text-align: right;\">\n      <th></th>\n      <th>log.audit</th>\n      <th>stream.documentum.documents</th>\n      <th>stream.ndid.evidence</th>\n      <th>stream.cbs-data.update</th>\n      <th>stream.transaction.limit</th>\n    </tr>\n    <tr>\n      <th>(Unnamed: 0_level_0, Unnamed: 0_level_1, Event_code)</th>\n      <th></th>\n      <th></th>\n      <th></th>\n      <th></th>\n      <th></th>\n    </tr>\n  </thead>\n  <tbody>\n    <tr>\n      <th>10001</th>\n      <td>Y</td>\n      <td>NaN</td>\n      <td>NaN</td>\n      <td>NaN</td>\n      <td>NaN</td>\n    </tr>\n    <tr>\n      <th>10003</th>\n      <td>Y</td>\n      <td>NaN</td>\n      <td>NaN</td>\n      <td>NaN</td>\n      <td>NaN</td>\n    </tr>\n    <tr>\n      <th>10004</th>\n      <td>Y</td>\n      <td>NaN</td>\n      <td>NaN</td>\n      <td>NaN</td>\n      <td>NaN</td>\n    </tr>\n    <tr>\n      <th>10005</th>\n      <td>Y</td>\n      <td>NaN</td>\n      <td>NaN</td>\n      <td>NaN</td>\n      <td>NaN</td>\n    </tr>\n    <tr>\n      <th>10009</th>\n      <td>Y</td>\n      <td>NaN</td>\n      <td>NaN</td>\n      <td>NaN</td>\n      <td>NaN</td>\n    </tr>\n  </tbody>\n</table>\n</div>"
     },
     "metadata": {},
     "execution_count": 356
    }
   ],
   "source": [
    "idx = pd.IndexSlice\n",
    "df_slice = data.loc[:,idx['eventEngine','targetTopics']]\n",
    "df_slice.head()"
   ]
  },
  {
   "cell_type": "markdown",
   "metadata": {},
   "source": [
    "### Convert 'Y' to column name"
   ]
  },
  {
   "cell_type": "code",
   "execution_count": 357,
   "metadata": {},
   "outputs": [
    {
     "output_type": "execute_result",
     "data": {
      "text/plain": "                                                    log.audit  \\\n(Unnamed: 0_level_0, Unnamed: 0_level_1, Event_...              \n10001                                               log.audit   \n10003                                               log.audit   \n10004                                               log.audit   \n10005                                               log.audit   \n10009                                               log.audit   \n\n                                                   stream.documentum.documents  \\\n(Unnamed: 0_level_0, Unnamed: 0_level_1, Event_...                               \n10001                                                                      NaN   \n10003                                                                      NaN   \n10004                                                                      NaN   \n10005                                                                      NaN   \n10009                                                                      NaN   \n\n                                                   stream.ndid.evidence  \\\n(Unnamed: 0_level_0, Unnamed: 0_level_1, Event_...                        \n10001                                                               NaN   \n10003                                                               NaN   \n10004                                                               NaN   \n10005                                                               NaN   \n10009                                                               NaN   \n\n                                                   stream.cbs-data.update  \\\n(Unnamed: 0_level_0, Unnamed: 0_level_1, Event_...                          \n10001                                                                 NaN   \n10003                                                                 NaN   \n10004                                                                 NaN   \n10005                                                                 NaN   \n10009                                                                 NaN   \n\n                                                   stream.transaction.limit  \n(Unnamed: 0_level_0, Unnamed: 0_level_1, Event_...                           \n10001                                                                   NaN  \n10003                                                                   NaN  \n10004                                                                   NaN  \n10005                                                                   NaN  \n10009                                                                   NaN  ",
      "text/html": "<div>\n<style scoped>\n    .dataframe tbody tr th:only-of-type {\n        vertical-align: middle;\n    }\n\n    .dataframe tbody tr th {\n        vertical-align: top;\n    }\n\n    .dataframe thead th {\n        text-align: right;\n    }\n</style>\n<table border=\"1\" class=\"dataframe\">\n  <thead>\n    <tr style=\"text-align: right;\">\n      <th></th>\n      <th>log.audit</th>\n      <th>stream.documentum.documents</th>\n      <th>stream.ndid.evidence</th>\n      <th>stream.cbs-data.update</th>\n      <th>stream.transaction.limit</th>\n    </tr>\n    <tr>\n      <th>(Unnamed: 0_level_0, Unnamed: 0_level_1, Event_code)</th>\n      <th></th>\n      <th></th>\n      <th></th>\n      <th></th>\n      <th></th>\n    </tr>\n  </thead>\n  <tbody>\n    <tr>\n      <th>10001</th>\n      <td>log.audit</td>\n      <td>NaN</td>\n      <td>NaN</td>\n      <td>NaN</td>\n      <td>NaN</td>\n    </tr>\n    <tr>\n      <th>10003</th>\n      <td>log.audit</td>\n      <td>NaN</td>\n      <td>NaN</td>\n      <td>NaN</td>\n      <td>NaN</td>\n    </tr>\n    <tr>\n      <th>10004</th>\n      <td>log.audit</td>\n      <td>NaN</td>\n      <td>NaN</td>\n      <td>NaN</td>\n      <td>NaN</td>\n    </tr>\n    <tr>\n      <th>10005</th>\n      <td>log.audit</td>\n      <td>NaN</td>\n      <td>NaN</td>\n      <td>NaN</td>\n      <td>NaN</td>\n    </tr>\n    <tr>\n      <th>10009</th>\n      <td>log.audit</td>\n      <td>NaN</td>\n      <td>NaN</td>\n      <td>NaN</td>\n      <td>NaN</td>\n    </tr>\n  </tbody>\n</table>\n</div>"
     },
     "metadata": {},
     "execution_count": 357
    }
   ],
   "source": [
    "df_slice = df_slice.loc[:, :].replace('Y', pd.Series(df_slice.columns, df_slice.columns))\n",
    "df_slice.head()"
   ]
  },
  {
   "cell_type": "markdown",
   "metadata": {},
   "source": [
    "### Create list of each row without NaN value"
   ]
  },
  {
   "cell_type": "code",
   "execution_count": 358,
   "metadata": {
    "tags": []
   },
   "outputs": [],
   "source": [
    "np_slice = df_slice.values\n",
    "list_slice = [row[~pd.isnull(row)].tolist() for row in np_slice]"
   ]
  },
  {
   "cell_type": "markdown",
   "metadata": {},
   "source": [
    "### Append list to dataframe"
   ]
  },
  {
   "cell_type": "code",
   "execution_count": 359,
   "metadata": {},
   "outputs": [],
   "source": [
    "df_slice['targetTopics'] = list_slice"
   ]
  },
  {
   "cell_type": "code",
   "execution_count": 360,
   "metadata": {},
   "outputs": [
    {
     "output_type": "execute_result",
     "data": {
      "text/plain": "                                                    log.audit  \\\n(Unnamed: 0_level_0, Unnamed: 0_level_1, Event_...              \n10001                                               log.audit   \n10003                                               log.audit   \n10004                                               log.audit   \n10005                                               log.audit   \n10009                                               log.audit   \n\n                                                   stream.documentum.documents  \\\n(Unnamed: 0_level_0, Unnamed: 0_level_1, Event_...                               \n10001                                                                      NaN   \n10003                                                                      NaN   \n10004                                                                      NaN   \n10005                                                                      NaN   \n10009                                                                      NaN   \n\n                                                   stream.ndid.evidence  \\\n(Unnamed: 0_level_0, Unnamed: 0_level_1, Event_...                        \n10001                                                               NaN   \n10003                                                               NaN   \n10004                                                               NaN   \n10005                                                               NaN   \n10009                                                               NaN   \n\n                                                   stream.cbs-data.update  \\\n(Unnamed: 0_level_0, Unnamed: 0_level_1, Event_...                          \n10001                                                                 NaN   \n10003                                                                 NaN   \n10004                                                                 NaN   \n10005                                                                 NaN   \n10009                                                                 NaN   \n\n                                                   stream.transaction.limit  \\\n(Unnamed: 0_level_0, Unnamed: 0_level_1, Event_...                            \n10001                                                                   NaN   \n10003                                                                   NaN   \n10004                                                                   NaN   \n10005                                                                   NaN   \n10009                                                                   NaN   \n\n                                                   targetTopics  \n(Unnamed: 0_level_0, Unnamed: 0_level_1, Event_...               \n10001                                               [log.audit]  \n10003                                               [log.audit]  \n10004                                               [log.audit]  \n10005                                               [log.audit]  \n10009                                               [log.audit]  ",
      "text/html": "<div>\n<style scoped>\n    .dataframe tbody tr th:only-of-type {\n        vertical-align: middle;\n    }\n\n    .dataframe tbody tr th {\n        vertical-align: top;\n    }\n\n    .dataframe thead th {\n        text-align: right;\n    }\n</style>\n<table border=\"1\" class=\"dataframe\">\n  <thead>\n    <tr style=\"text-align: right;\">\n      <th></th>\n      <th>log.audit</th>\n      <th>stream.documentum.documents</th>\n      <th>stream.ndid.evidence</th>\n      <th>stream.cbs-data.update</th>\n      <th>stream.transaction.limit</th>\n      <th>targetTopics</th>\n    </tr>\n    <tr>\n      <th>(Unnamed: 0_level_0, Unnamed: 0_level_1, Event_code)</th>\n      <th></th>\n      <th></th>\n      <th></th>\n      <th></th>\n      <th></th>\n      <th></th>\n    </tr>\n  </thead>\n  <tbody>\n    <tr>\n      <th>10001</th>\n      <td>log.audit</td>\n      <td>NaN</td>\n      <td>NaN</td>\n      <td>NaN</td>\n      <td>NaN</td>\n      <td>[log.audit]</td>\n    </tr>\n    <tr>\n      <th>10003</th>\n      <td>log.audit</td>\n      <td>NaN</td>\n      <td>NaN</td>\n      <td>NaN</td>\n      <td>NaN</td>\n      <td>[log.audit]</td>\n    </tr>\n    <tr>\n      <th>10004</th>\n      <td>log.audit</td>\n      <td>NaN</td>\n      <td>NaN</td>\n      <td>NaN</td>\n      <td>NaN</td>\n      <td>[log.audit]</td>\n    </tr>\n    <tr>\n      <th>10005</th>\n      <td>log.audit</td>\n      <td>NaN</td>\n      <td>NaN</td>\n      <td>NaN</td>\n      <td>NaN</td>\n      <td>[log.audit]</td>\n    </tr>\n    <tr>\n      <th>10009</th>\n      <td>log.audit</td>\n      <td>NaN</td>\n      <td>NaN</td>\n      <td>NaN</td>\n      <td>NaN</td>\n      <td>[log.audit]</td>\n    </tr>\n  </tbody>\n</table>\n</div>"
     },
     "metadata": {},
     "execution_count": 360
    }
   ],
   "source": [
    "df_slice.head()"
   ]
  },
  {
   "cell_type": "markdown",
   "metadata": {},
   "source": [
    "### Remove other columns"
   ]
  },
  {
   "cell_type": "code",
   "execution_count": 361,
   "metadata": {},
   "outputs": [],
   "source": [
    "df_slice = df_slice.drop(df_slice.columns[0:5], axis=1)"
   ]
  },
  {
   "cell_type": "code",
   "execution_count": 362,
   "metadata": {},
   "outputs": [
    {
     "output_type": "execute_result",
     "data": {
      "text/plain": "                                                                             targetTopics\n(Unnamed: 0_level_0, Unnamed: 0_level_1, Event_...                                       \n10001                                                                         [log.audit]\n10003                                                                         [log.audit]\n10004                                                                         [log.audit]\n10005                                                                         [log.audit]\n10009                                                                         [log.audit]\n...                                                                                   ...\n42019                                                                         [log.audit]\n42020                                                                         [log.audit]\n40067                                                 [log.audit, stream.cbs-data.update]\n40068                                                 [log.audit, stream.cbs-data.update]\n22037                                               [log.audit, stream.transaction.limit]\n\n[191 rows x 1 columns]",
      "text/html": "<div>\n<style scoped>\n    .dataframe tbody tr th:only-of-type {\n        vertical-align: middle;\n    }\n\n    .dataframe tbody tr th {\n        vertical-align: top;\n    }\n\n    .dataframe thead th {\n        text-align: right;\n    }\n</style>\n<table border=\"1\" class=\"dataframe\">\n  <thead>\n    <tr style=\"text-align: right;\">\n      <th></th>\n      <th>targetTopics</th>\n    </tr>\n    <tr>\n      <th>(Unnamed: 0_level_0, Unnamed: 0_level_1, Event_code)</th>\n      <th></th>\n    </tr>\n  </thead>\n  <tbody>\n    <tr>\n      <th>10001</th>\n      <td>[log.audit]</td>\n    </tr>\n    <tr>\n      <th>10003</th>\n      <td>[log.audit]</td>\n    </tr>\n    <tr>\n      <th>10004</th>\n      <td>[log.audit]</td>\n    </tr>\n    <tr>\n      <th>10005</th>\n      <td>[log.audit]</td>\n    </tr>\n    <tr>\n      <th>10009</th>\n      <td>[log.audit]</td>\n    </tr>\n    <tr>\n      <th>...</th>\n      <td>...</td>\n    </tr>\n    <tr>\n      <th>42019</th>\n      <td>[log.audit]</td>\n    </tr>\n    <tr>\n      <th>42020</th>\n      <td>[log.audit]</td>\n    </tr>\n    <tr>\n      <th>40067</th>\n      <td>[log.audit, stream.cbs-data.update]</td>\n    </tr>\n    <tr>\n      <th>40068</th>\n      <td>[log.audit, stream.cbs-data.update]</td>\n    </tr>\n    <tr>\n      <th>22037</th>\n      <td>[log.audit, stream.transaction.limit]</td>\n    </tr>\n  </tbody>\n</table>\n<p>191 rows × 1 columns</p>\n</div>"
     },
     "metadata": {},
     "execution_count": 362
    }
   ],
   "source": [
    "df_slice"
   ]
  },
  {
   "cell_type": "markdown",
   "metadata": {},
   "source": [
    "### Remove rows with targetTopics = []"
   ]
  },
  {
   "cell_type": "code",
   "execution_count": 363,
   "metadata": {},
   "outputs": [],
   "source": [
    "df_slice = df_slice[df_slice.astype(str)['targetTopics'] != '[]']"
   ]
  },
  {
   "cell_type": "markdown",
   "metadata": {},
   "source": [
    "### Covert df to dict"
   ]
  },
  {
   "cell_type": "code",
   "execution_count": 364,
   "metadata": {},
   "outputs": [],
   "source": [
    "df_slice_dict = df_slice.to_dict('index')"
   ]
  },
  {
   "cell_type": "markdown",
   "metadata": {},
   "source": [
    "### Append with the existing dict"
   ]
  },
  {
   "cell_type": "code",
   "execution_count": 365,
   "metadata": {},
   "outputs": [],
   "source": [
    "for key, value in data_dict.items():\n",
    "    try:\n",
    "        value['eventEngine'] = df_slice_dict[key]\n",
    "    except:\n",
    "        pass"
   ]
  },
  {
   "cell_type": "markdown",
   "metadata": {},
   "source": [
    "## Process commsEngine"
   ]
  },
  {
   "cell_type": "markdown",
   "metadata": {},
   "source": [
    "## targetTopics"
   ]
  },
  {
   "cell_type": "code",
   "execution_count": 366,
   "metadata": {},
   "outputs": [
    {
     "output_type": "execute_result",
     "data": {
      "text/plain": "                                                   push.email push.sms  \\\n(Unnamed: 0_level_0, Unnamed: 0_level_1, Event_...                       \n10001                                                       Y      NaN   \n10003                                                       Y      NaN   \n10004                                                     NaN      NaN   \n10005                                                     NaN      NaN   \n10009                                                     NaN      NaN   \n\n                                                   push.notification  \n(Unnamed: 0_level_0, Unnamed: 0_level_1, Event_...                    \n10001                                                            NaN  \n10003                                                            NaN  \n10004                                                              Y  \n10005                                                            NaN  \n10009                                                            NaN  ",
      "text/html": "<div>\n<style scoped>\n    .dataframe tbody tr th:only-of-type {\n        vertical-align: middle;\n    }\n\n    .dataframe tbody tr th {\n        vertical-align: top;\n    }\n\n    .dataframe thead th {\n        text-align: right;\n    }\n</style>\n<table border=\"1\" class=\"dataframe\">\n  <thead>\n    <tr style=\"text-align: right;\">\n      <th></th>\n      <th>push.email</th>\n      <th>push.sms</th>\n      <th>push.notification</th>\n    </tr>\n    <tr>\n      <th>(Unnamed: 0_level_0, Unnamed: 0_level_1, Event_code)</th>\n      <th></th>\n      <th></th>\n      <th></th>\n    </tr>\n  </thead>\n  <tbody>\n    <tr>\n      <th>10001</th>\n      <td>Y</td>\n      <td>NaN</td>\n      <td>NaN</td>\n    </tr>\n    <tr>\n      <th>10003</th>\n      <td>Y</td>\n      <td>NaN</td>\n      <td>NaN</td>\n    </tr>\n    <tr>\n      <th>10004</th>\n      <td>NaN</td>\n      <td>NaN</td>\n      <td>Y</td>\n    </tr>\n    <tr>\n      <th>10005</th>\n      <td>NaN</td>\n      <td>NaN</td>\n      <td>NaN</td>\n    </tr>\n    <tr>\n      <th>10009</th>\n      <td>NaN</td>\n      <td>NaN</td>\n      <td>NaN</td>\n    </tr>\n  </tbody>\n</table>\n</div>"
     },
     "metadata": {},
     "execution_count": 366
    }
   ],
   "source": [
    "df_slice = data.loc[:,idx['commsEngine','targetTopics']]\n",
    "df_slice.head()"
   ]
  },
  {
   "cell_type": "code",
   "execution_count": 367,
   "metadata": {},
   "outputs": [
    {
     "output_type": "execute_result",
     "data": {
      "text/plain": "                                                    push.email push.sms  \\\n(Unnamed: 0_level_0, Unnamed: 0_level_1, Event_...                        \n10001                                               push.email      NaN   \n10003                                               push.email      NaN   \n10004                                                      NaN      NaN   \n10005                                                      NaN      NaN   \n10009                                                      NaN      NaN   \n\n                                                    push.notification  \n(Unnamed: 0_level_0, Unnamed: 0_level_1, Event_...                     \n10001                                                             NaN  \n10003                                                             NaN  \n10004                                               push.notification  \n10005                                                             NaN  \n10009                                                             NaN  ",
      "text/html": "<div>\n<style scoped>\n    .dataframe tbody tr th:only-of-type {\n        vertical-align: middle;\n    }\n\n    .dataframe tbody tr th {\n        vertical-align: top;\n    }\n\n    .dataframe thead th {\n        text-align: right;\n    }\n</style>\n<table border=\"1\" class=\"dataframe\">\n  <thead>\n    <tr style=\"text-align: right;\">\n      <th></th>\n      <th>push.email</th>\n      <th>push.sms</th>\n      <th>push.notification</th>\n    </tr>\n    <tr>\n      <th>(Unnamed: 0_level_0, Unnamed: 0_level_1, Event_code)</th>\n      <th></th>\n      <th></th>\n      <th></th>\n    </tr>\n  </thead>\n  <tbody>\n    <tr>\n      <th>10001</th>\n      <td>push.email</td>\n      <td>NaN</td>\n      <td>NaN</td>\n    </tr>\n    <tr>\n      <th>10003</th>\n      <td>push.email</td>\n      <td>NaN</td>\n      <td>NaN</td>\n    </tr>\n    <tr>\n      <th>10004</th>\n      <td>NaN</td>\n      <td>NaN</td>\n      <td>push.notification</td>\n    </tr>\n    <tr>\n      <th>10005</th>\n      <td>NaN</td>\n      <td>NaN</td>\n      <td>NaN</td>\n    </tr>\n    <tr>\n      <th>10009</th>\n      <td>NaN</td>\n      <td>NaN</td>\n      <td>NaN</td>\n    </tr>\n  </tbody>\n</table>\n</div>"
     },
     "metadata": {},
     "execution_count": 367
    }
   ],
   "source": [
    "df_slice = df_slice.loc[:, :].replace('Y', pd.Series(df_slice.columns, df_slice.columns))\n",
    "df_slice.head()"
   ]
  },
  {
   "cell_type": "code",
   "execution_count": 368,
   "metadata": {},
   "outputs": [],
   "source": [
    "np_slice = df_slice.values\n",
    "list_slice = [row[~pd.isnull(row)].tolist() for row in np_slice]"
   ]
  },
  {
   "cell_type": "code",
   "execution_count": 369,
   "metadata": {},
   "outputs": [],
   "source": [
    "df_slice['targetTopics'] = list_slice"
   ]
  },
  {
   "cell_type": "code",
   "execution_count": 370,
   "metadata": {},
   "outputs": [
    {
     "output_type": "execute_result",
     "data": {
      "text/plain": "                                                           targetTopics\n(Unnamed: 0_level_0, Unnamed: 0_level_1, Event_...                     \n10001                                                      [push.email]\n10003                                                      [push.email]\n10004                                               [push.notification]\n10005                                                                []\n10009                                                                []",
      "text/html": "<div>\n<style scoped>\n    .dataframe tbody tr th:only-of-type {\n        vertical-align: middle;\n    }\n\n    .dataframe tbody tr th {\n        vertical-align: top;\n    }\n\n    .dataframe thead th {\n        text-align: right;\n    }\n</style>\n<table border=\"1\" class=\"dataframe\">\n  <thead>\n    <tr style=\"text-align: right;\">\n      <th></th>\n      <th>targetTopics</th>\n    </tr>\n    <tr>\n      <th>(Unnamed: 0_level_0, Unnamed: 0_level_1, Event_code)</th>\n      <th></th>\n    </tr>\n  </thead>\n  <tbody>\n    <tr>\n      <th>10001</th>\n      <td>[push.email]</td>\n    </tr>\n    <tr>\n      <th>10003</th>\n      <td>[push.email]</td>\n    </tr>\n    <tr>\n      <th>10004</th>\n      <td>[push.notification]</td>\n    </tr>\n    <tr>\n      <th>10005</th>\n      <td>[]</td>\n    </tr>\n    <tr>\n      <th>10009</th>\n      <td>[]</td>\n    </tr>\n  </tbody>\n</table>\n</div>"
     },
     "metadata": {},
     "execution_count": 370
    }
   ],
   "source": [
    "df_slice = df_slice.drop(df_slice.columns[0:3], axis=1)\n",
    "df_slice.head()"
   ]
  },
  {
   "cell_type": "code",
   "execution_count": 371,
   "metadata": {},
   "outputs": [],
   "source": [
    "df_slice = df_slice[df_slice.astype(str)['targetTopics'] != '[]']"
   ]
  },
  {
   "cell_type": "code",
   "execution_count": 372,
   "metadata": {},
   "outputs": [],
   "source": [
    "targetTopics_dict = df_slice.to_dict('index')"
   ]
  },
  {
   "cell_type": "code",
   "execution_count": 373,
   "metadata": {},
   "outputs": [
    {
     "output_type": "execute_result",
     "data": {
      "text/plain": "{10001: {'targetTopics': ['push.email']},\n 10003: {'targetTopics': ['push.email']},\n 10004: {'targetTopics': ['push.notification']},\n 10010: {'targetTopics': ['push.email', 'push.sms']},\n 21003: {'targetTopics': ['push.email']},\n 21005: {'targetTopics': ['push.notification']},\n 21013: {'targetTopics': ['push.email']},\n 21014: {'targetTopics': ['push.email']},\n 21016: {'targetTopics': ['push.notification']},\n 21017: {'targetTopics': ['push.email']},\n 21018: {'targetTopics': ['push.email']},\n 21019: {'targetTopics': ['push.email']},\n 21020: {'targetTopics': ['push.email']},\n 21021: {'targetTopics': ['push.email']},\n 21023: {'targetTopics': ['push.email']},\n 21024: {'targetTopics': ['push.email']},\n 21025: {'targetTopics': ['push.email']},\n 21026: {'targetTopics': ['push.email']},\n 21027: {'targetTopics': ['push.email']},\n 21028: {'targetTopics': ['push.email']},\n 21029: {'targetTopics': ['push.email']},\n 21030: {'targetTopics': ['push.email']},\n 21035: {'targetTopics': ['push.notification']},\n 21036: {'targetTopics': ['push.notification']},\n 22000: {'targetTopics': ['push.email']},\n 22002: {'targetTopics': ['push.email']},\n 22003: {'targetTopics': ['push.notification']},\n 22004: {'targetTopics': ['push.notification']},\n 22015: {'targetTopics': ['push.email']},\n 22016: {'targetTopics': ['push.email']},\n 22017: {'targetTopics': ['push.email']},\n 22018: {'targetTopics': ['push.email']},\n 22019: {'targetTopics': ['push.email']},\n 22020: {'targetTopics': ['push.email']},\n 22021: {'targetTopics': ['push.email']},\n 22022: {'targetTopics': ['push.email']},\n 22023: {'targetTopics': ['push.email']},\n 22024: {'targetTopics': ['push.email']},\n 22025: {'targetTopics': ['push.email']},\n 22026: {'targetTopics': ['push.email']},\n 22027: {'targetTopics': ['push.email']},\n 22028: {'targetTopics': ['push.email']},\n 22031: {'targetTopics': ['push.notification']},\n 22035: {'targetTopics': ['push.notification']},\n 22036: {'targetTopics': ['push.notification']},\n 30060: {'targetTopics': ['push.notification']},\n 30071: {'targetTopics': ['push.notification']},\n 30072: {'targetTopics': ['push.notification']},\n 30073: {'targetTopics': ['push.notification']},\n 30074: {'targetTopics': ['push.notification']},\n 30075: {'targetTopics': ['push.notification']},\n 30076: {'targetTopics': ['push.notification']},\n 40001: {'targetTopics': ['push.email']},\n 40002: {'targetTopics': ['push.email']},\n 40003: {'targetTopics': ['push.email']},\n 40007: {'targetTopics': ['push.email']},\n 40015: {'targetTopics': ['push.email']},\n 40053: {'targetTopics': ['push.sms']},\n 40054: {'targetTopics': ['push.email', 'push.sms']},\n 42001: {'targetTopics': ['push.notification']},\n 42003: {'targetTopics': ['push.notification']},\n 42004: {'targetTopics': ['push.notification']},\n 42005: {'targetTopics': ['push.notification']},\n 42006: {'targetTopics': ['push.notification']},\n 42007: {'targetTopics': ['push.notification']},\n 42008: {'targetTopics': ['push.notification']},\n 42009: {'targetTopics': ['push.notification']},\n 42010: {'targetTopics': ['push.notification']},\n 42011: {'targetTopics': ['push.notification']},\n 42012: {'targetTopics': ['push.notification']},\n 42013: {'targetTopics': ['push.notification']},\n 42014: {'targetTopics': ['push.notification']},\n 42015: {'targetTopics': ['push.notification']},\n 42016: {'targetTopics': ['push.notification']},\n 42017: {'targetTopics': ['push.notification']},\n 42018: {'targetTopics': ['push.notification']},\n 43002: {'targetTopics': ['push.notification']},\n 43004: {'targetTopics': ['push.notification']},\n 50001: {'targetTopics': ['push.email']},\n 50005: {'targetTopics': ['push.notification']},\n 50017: {'targetTopics': ['push.sms']},\n 50019: {'targetTopics': ['push.email']},\n 90010: {'targetTopics': ['push.sms']},\n 90011: {'targetTopics': ['push.sms']},\n 42019: {'targetTopics': ['push.notification']},\n 42020: {'targetTopics': ['push.notification']},\n 22037: {'targetTopics': ['push.email']}}"
     },
     "metadata": {},
     "execution_count": 373
    }
   ],
   "source": [
    "targetTopics_dict"
   ]
  },
  {
   "cell_type": "markdown",
   "metadata": {},
   "source": [
    "## fromPreference"
   ]
  },
  {
   "cell_type": "code",
   "execution_count": 374,
   "metadata": {},
   "outputs": [
    {
     "output_type": "execute_result",
     "data": {
      "text/plain": "                                                   isRequired  \\\n(Unnamed: 0_level_0, Unnamed: 0_level_1, Event_...              \n10001                                                       Y   \n10003                                                       Y   \n10004                                                     NaN   \n10005                                                     NaN   \n10009                                                     NaN   \n\n                                                                      requiredField  \n(Unnamed: 0_level_0, Unnamed: 0_level_1, Event_...                                   \n10001                                               isLoginEmailNotificationEnabled  \n10003                                               isLoginEmailNotificationEnabled  \n10004                                                                           NaN  \n10005                                                                           NaN  \n10009                                                                           NaN  ",
      "text/html": "<div>\n<style scoped>\n    .dataframe tbody tr th:only-of-type {\n        vertical-align: middle;\n    }\n\n    .dataframe tbody tr th {\n        vertical-align: top;\n    }\n\n    .dataframe thead th {\n        text-align: right;\n    }\n</style>\n<table border=\"1\" class=\"dataframe\">\n  <thead>\n    <tr style=\"text-align: right;\">\n      <th></th>\n      <th>isRequired</th>\n      <th>requiredField</th>\n    </tr>\n    <tr>\n      <th>(Unnamed: 0_level_0, Unnamed: 0_level_1, Event_code)</th>\n      <th></th>\n      <th></th>\n    </tr>\n  </thead>\n  <tbody>\n    <tr>\n      <th>10001</th>\n      <td>Y</td>\n      <td>isLoginEmailNotificationEnabled</td>\n    </tr>\n    <tr>\n      <th>10003</th>\n      <td>Y</td>\n      <td>isLoginEmailNotificationEnabled</td>\n    </tr>\n    <tr>\n      <th>10004</th>\n      <td>NaN</td>\n      <td>NaN</td>\n    </tr>\n    <tr>\n      <th>10005</th>\n      <td>NaN</td>\n      <td>NaN</td>\n    </tr>\n    <tr>\n      <th>10009</th>\n      <td>NaN</td>\n      <td>NaN</td>\n    </tr>\n  </tbody>\n</table>\n</div>"
     },
     "metadata": {},
     "execution_count": 374
    }
   ],
   "source": [
    "df_slice = data.loc[:,idx['commsEngine','fromPreference']]\n",
    "df_slice.head()"
   ]
  },
  {
   "cell_type": "code",
   "execution_count": 375,
   "metadata": {},
   "outputs": [
    {
     "output_type": "execute_result",
     "data": {
      "text/plain": "                                                   isRequired  \\\n(Unnamed: 0_level_0, Unnamed: 0_level_1, Event_...              \n10001                                                    True   \n10003                                                    True   \n10004                                                     NaN   \n10005                                                     NaN   \n10009                                                     NaN   \n\n                                                                      requiredField  \n(Unnamed: 0_level_0, Unnamed: 0_level_1, Event_...                                   \n10001                                               isLoginEmailNotificationEnabled  \n10003                                               isLoginEmailNotificationEnabled  \n10004                                                                           NaN  \n10005                                                                           NaN  \n10009                                                                           NaN  ",
      "text/html": "<div>\n<style scoped>\n    .dataframe tbody tr th:only-of-type {\n        vertical-align: middle;\n    }\n\n    .dataframe tbody tr th {\n        vertical-align: top;\n    }\n\n    .dataframe thead th {\n        text-align: right;\n    }\n</style>\n<table border=\"1\" class=\"dataframe\">\n  <thead>\n    <tr style=\"text-align: right;\">\n      <th></th>\n      <th>isRequired</th>\n      <th>requiredField</th>\n    </tr>\n    <tr>\n      <th>(Unnamed: 0_level_0, Unnamed: 0_level_1, Event_code)</th>\n      <th></th>\n      <th></th>\n    </tr>\n  </thead>\n  <tbody>\n    <tr>\n      <th>10001</th>\n      <td>True</td>\n      <td>isLoginEmailNotificationEnabled</td>\n    </tr>\n    <tr>\n      <th>10003</th>\n      <td>True</td>\n      <td>isLoginEmailNotificationEnabled</td>\n    </tr>\n    <tr>\n      <th>10004</th>\n      <td>NaN</td>\n      <td>NaN</td>\n    </tr>\n    <tr>\n      <th>10005</th>\n      <td>NaN</td>\n      <td>NaN</td>\n    </tr>\n    <tr>\n      <th>10009</th>\n      <td>NaN</td>\n      <td>NaN</td>\n    </tr>\n  </tbody>\n</table>\n</div>"
     },
     "metadata": {},
     "execution_count": 375
    }
   ],
   "source": [
    "df_slice.loc[:, 'isRequired'] = df_slice.loc[:, 'isRequired'].replace('Y', True)\n",
    "df_slice.head()"
   ]
  },
  {
   "cell_type": "code",
   "execution_count": 376,
   "metadata": {},
   "outputs": [],
   "source": [
    "fromPreference_dict = df_slice.dropna('index',how='all').to_dict('index')"
   ]
  },
  {
   "cell_type": "code",
   "execution_count": 377,
   "metadata": {},
   "outputs": [
    {
     "output_type": "execute_result",
     "data": {
      "text/plain": "{10001: {'isRequired': True,\n  'requiredField': 'isLoginEmailNotificationEnabled'},\n 10003: {'isRequired': True,\n  'requiredField': 'isLoginEmailNotificationEnabled'},\n 21003: {'isRequired': True,\n  'requiredField': 'isTransactionEmailNotificationEnabled'},\n 21013: {'isRequired': True,\n  'requiredField': 'isTransactionEmailNotificationEnabled'},\n 21014: {'isRequired': True,\n  'requiredField': 'isTransactionEmailNotificationEnabled'},\n 21015: {'isRequired': True,\n  'requiredField': 'isTransactionEmailNotificationEnabled'},\n 21017: {'isRequired': True,\n  'requiredField': 'isTransactionEmailNotificationEnabled'},\n 21018: {'isRequired': True,\n  'requiredField': 'isTransactionEmailNotificationEnabled'},\n 21019: {'isRequired': True,\n  'requiredField': 'isTransactionEmailNotificationEnabled'},\n 21020: {'isRequired': True,\n  'requiredField': 'isTransactionEmailNotificationEnabled'},\n 21021: {'isRequired': True,\n  'requiredField': 'isTransactionEmailNotificationEnabled'},\n 21023: {'isRequired': True,\n  'requiredField': 'isTransactionEmailNotificationEnabled'},\n 21024: {'isRequired': True,\n  'requiredField': 'isTransactionEmailNotificationEnabled'},\n 21025: {'isRequired': True,\n  'requiredField': 'isTransactionEmailNotificationEnabled'},\n 21026: {'isRequired': True,\n  'requiredField': 'isTransactionEmailNotificationEnabled'},\n 21027: {'isRequired': True,\n  'requiredField': 'isTransactionEmailNotificationEnabled'},\n 21028: {'isRequired': True,\n  'requiredField': 'isTransactionEmailNotificationEnabled'},\n 21029: {'isRequired': True,\n  'requiredField': 'isTransactionEmailNotificationEnabled'},\n 21030: {'isRequired': True,\n  'requiredField': 'isTransactionEmailNotificationEnabled'},\n 22000: {'isRequired': True,\n  'requiredField': 'isTransactionEmailNotificationEnabled'},\n 22002: {'isRequired': True,\n  'requiredField': 'isTransactionEmailNotificationEnabled'},\n 22015: {'isRequired': True,\n  'requiredField': 'isTransactionEmailNotificationEnabled'},\n 22016: {'isRequired': True,\n  'requiredField': 'isTransactionEmailNotificationEnabled'},\n 22017: {'isRequired': True,\n  'requiredField': 'isTransactionEmailNotificationEnabled'},\n 22018: {'isRequired': True,\n  'requiredField': 'isTransactionEmailNotificationEnabled'},\n 22019: {'isRequired': True,\n  'requiredField': 'isTransactionEmailNotificationEnabled'},\n 22020: {'isRequired': True,\n  'requiredField': 'isTransactionEmailNotificationEnabled'},\n 22021: {'isRequired': True,\n  'requiredField': 'isTransactionEmailNotificationEnabled'},\n 22022: {'isRequired': True,\n  'requiredField': 'isTransactionEmailNotificationEnabled'},\n 22023: {'isRequired': True,\n  'requiredField': 'isTransactionEmailNotificationEnabled'},\n 22024: {'isRequired': True,\n  'requiredField': 'isTransactionEmailNotificationEnabled'},\n 22025: {'isRequired': True,\n  'requiredField': 'isTransactionEmailNotificationEnabled'},\n 22026: {'isRequired': True,\n  'requiredField': 'isTransactionEmailNotificationEnabled'},\n 22027: {'isRequired': True,\n  'requiredField': 'isTransactionEmailNotificationEnabled'},\n 22028: {'isRequired': True,\n  'requiredField': 'isTransactionEmailNotificationEnabled'},\n 40001: {'isRequired': True,\n  'requiredField': 'isApplicationSettingEmailNotificationEnabled'},\n 40002: {'isRequired': True,\n  'requiredField': 'isApplicationSettingEmailNotificationEnabled'},\n 40003: {'isRequired': True,\n  'requiredField': 'isApplicationSettingEmailNotificationEnabled'},\n 40007: {'isRequired': True,\n  'requiredField': 'isApplicationSettingEmailNotificationEnabled'},\n 40015: {'isRequired': True,\n  'requiredField': 'isApplicationSettingEmailNotificationEnabled'},\n 40054: {'isRequired': True,\n  'requiredField': 'isApplicationSettingEmailNotificationEnabled'},\n 22037: {'isRequired': True,\n  'requiredField': 'isTransactionEmailNotificationEnabled'}}"
     },
     "metadata": {},
     "execution_count": 377
    }
   ],
   "source": [
    "fromPreference_dict"
   ]
  },
  {
   "cell_type": "markdown",
   "metadata": {},
   "source": [
    "## fromProfile"
   ]
  },
  {
   "cell_type": "code",
   "execution_count": 378,
   "metadata": {},
   "outputs": [
    {
     "output_type": "execute_result",
     "data": {
      "text/plain": "                                                   isRequired\n(Unnamed: 0_level_0, Unnamed: 0_level_1, Event_...           \n10001                                                       Y\n10003                                                       Y\n10004                                                       Y\n10005                                                     NaN\n10009                                                     NaN",
      "text/html": "<div>\n<style scoped>\n    .dataframe tbody tr th:only-of-type {\n        vertical-align: middle;\n    }\n\n    .dataframe tbody tr th {\n        vertical-align: top;\n    }\n\n    .dataframe thead th {\n        text-align: right;\n    }\n</style>\n<table border=\"1\" class=\"dataframe\">\n  <thead>\n    <tr style=\"text-align: right;\">\n      <th></th>\n      <th>isRequired</th>\n    </tr>\n    <tr>\n      <th>(Unnamed: 0_level_0, Unnamed: 0_level_1, Event_code)</th>\n      <th></th>\n    </tr>\n  </thead>\n  <tbody>\n    <tr>\n      <th>10001</th>\n      <td>Y</td>\n    </tr>\n    <tr>\n      <th>10003</th>\n      <td>Y</td>\n    </tr>\n    <tr>\n      <th>10004</th>\n      <td>Y</td>\n    </tr>\n    <tr>\n      <th>10005</th>\n      <td>NaN</td>\n    </tr>\n    <tr>\n      <th>10009</th>\n      <td>NaN</td>\n    </tr>\n  </tbody>\n</table>\n</div>"
     },
     "metadata": {},
     "execution_count": 378
    }
   ],
   "source": [
    "df_slice = data.loc[:,idx['commsEngine','fromProfile']]\n",
    "df_slice.head()"
   ]
  },
  {
   "cell_type": "code",
   "execution_count": 379,
   "metadata": {},
   "outputs": [
    {
     "output_type": "execute_result",
     "data": {
      "text/plain": "                                                   isRequired\n(Unnamed: 0_level_0, Unnamed: 0_level_1, Event_...           \n10001                                                    True\n10003                                                    True\n10004                                                    True\n10005                                                     NaN\n10009                                                     NaN",
      "text/html": "<div>\n<style scoped>\n    .dataframe tbody tr th:only-of-type {\n        vertical-align: middle;\n    }\n\n    .dataframe tbody tr th {\n        vertical-align: top;\n    }\n\n    .dataframe thead th {\n        text-align: right;\n    }\n</style>\n<table border=\"1\" class=\"dataframe\">\n  <thead>\n    <tr style=\"text-align: right;\">\n      <th></th>\n      <th>isRequired</th>\n    </tr>\n    <tr>\n      <th>(Unnamed: 0_level_0, Unnamed: 0_level_1, Event_code)</th>\n      <th></th>\n    </tr>\n  </thead>\n  <tbody>\n    <tr>\n      <th>10001</th>\n      <td>True</td>\n    </tr>\n    <tr>\n      <th>10003</th>\n      <td>True</td>\n    </tr>\n    <tr>\n      <th>10004</th>\n      <td>True</td>\n    </tr>\n    <tr>\n      <th>10005</th>\n      <td>NaN</td>\n    </tr>\n    <tr>\n      <th>10009</th>\n      <td>NaN</td>\n    </tr>\n  </tbody>\n</table>\n</div>"
     },
     "metadata": {},
     "execution_count": 379
    }
   ],
   "source": [
    "df_slice = df_slice.loc[:,:].replace('Y', True)\n",
    "df_slice.head()"
   ]
  },
  {
   "cell_type": "code",
   "execution_count": 380,
   "metadata": {},
   "outputs": [],
   "source": [
    "fromProfile_dict = df_slice.dropna('index',how='all').to_dict('index')"
   ]
  },
  {
   "cell_type": "code",
   "execution_count": 381,
   "metadata": {},
   "outputs": [
    {
     "output_type": "execute_result",
     "data": {
      "text/plain": "{10001: {'isRequired': True},\n 10003: {'isRequired': True},\n 10004: {'isRequired': True},\n 10010: {'isRequired': True},\n 21003: {'isRequired': True},\n 21005: {'isRequired': True},\n 21013: {'isRequired': True},\n 21014: {'isRequired': True},\n 21015: {'isRequired': True},\n 21016: {'isRequired': True},\n 21017: {'isRequired': True},\n 21018: {'isRequired': True},\n 21019: {'isRequired': True},\n 21020: {'isRequired': True},\n 21021: {'isRequired': True},\n 21023: {'isRequired': True},\n 21024: {'isRequired': True},\n 21025: {'isRequired': True},\n 21026: {'isRequired': True},\n 21027: {'isRequired': True},\n 21028: {'isRequired': True},\n 21029: {'isRequired': True},\n 21030: {'isRequired': True},\n 21035: {'isRequired': True},\n 21036: {'isRequired': True},\n 22000: {'isRequired': True},\n 22002: {'isRequired': True},\n 22003: {'isRequired': True},\n 22004: {'isRequired': True},\n 22015: {'isRequired': True},\n 22016: {'isRequired': True},\n 22017: {'isRequired': True},\n 22018: {'isRequired': True},\n 22019: {'isRequired': True},\n 22020: {'isRequired': True},\n 22021: {'isRequired': True},\n 22022: {'isRequired': True},\n 22023: {'isRequired': True},\n 22024: {'isRequired': True},\n 22025: {'isRequired': True},\n 22026: {'isRequired': True},\n 22027: {'isRequired': True},\n 22028: {'isRequired': True},\n 22031: {'isRequired': True},\n 22035: {'isRequired': True},\n 22036: {'isRequired': True},\n 30060: {'isRequired': True},\n 30071: {'isRequired': True},\n 30072: {'isRequired': True},\n 30073: {'isRequired': True},\n 30074: {'isRequired': True},\n 30075: {'isRequired': True},\n 30076: {'isRequired': True},\n 40001: {'isRequired': True},\n 40002: {'isRequired': True},\n 40003: {'isRequired': True},\n 40007: {'isRequired': True},\n 40015: {'isRequired': True},\n 40053: {'isRequired': True},\n 40054: {'isRequired': True},\n 50001: {'isRequired': True},\n 90010: {'isRequired': True},\n 90011: {'isRequired': True}}"
     },
     "metadata": {},
     "execution_count": 381
    }
   ],
   "source": [
    "fromProfile_dict"
   ]
  },
  {
   "cell_type": "markdown",
   "metadata": {},
   "source": [
    "## pushNotification"
   ]
  },
  {
   "cell_type": "code",
   "execution_count": 382,
   "metadata": {},
   "outputs": [
    {
     "output_type": "execute_result",
     "data": {
      "text/plain": "                                                   isImmediateRoutingRequired\n(Unnamed: 0_level_0, Unnamed: 0_level_1, Event_...                           \n10001                                                                     NaN\n10003                                                                     NaN\n10004                                                                     NaN\n10005                                                                     NaN\n10009                                                                     NaN",
      "text/html": "<div>\n<style scoped>\n    .dataframe tbody tr th:only-of-type {\n        vertical-align: middle;\n    }\n\n    .dataframe tbody tr th {\n        vertical-align: top;\n    }\n\n    .dataframe thead th {\n        text-align: right;\n    }\n</style>\n<table border=\"1\" class=\"dataframe\">\n  <thead>\n    <tr style=\"text-align: right;\">\n      <th></th>\n      <th>isImmediateRoutingRequired</th>\n    </tr>\n    <tr>\n      <th>(Unnamed: 0_level_0, Unnamed: 0_level_1, Event_code)</th>\n      <th></th>\n    </tr>\n  </thead>\n  <tbody>\n    <tr>\n      <th>10001</th>\n      <td>NaN</td>\n    </tr>\n    <tr>\n      <th>10003</th>\n      <td>NaN</td>\n    </tr>\n    <tr>\n      <th>10004</th>\n      <td>NaN</td>\n    </tr>\n    <tr>\n      <th>10005</th>\n      <td>NaN</td>\n    </tr>\n    <tr>\n      <th>10009</th>\n      <td>NaN</td>\n    </tr>\n  </tbody>\n</table>\n</div>"
     },
     "metadata": {},
     "execution_count": 382
    }
   ],
   "source": [
    "df_slice = data.loc[:,idx['commsEngine','pushNotification']]\n",
    "df_slice.head()"
   ]
  },
  {
   "cell_type": "code",
   "execution_count": 383,
   "metadata": {},
   "outputs": [
    {
     "output_type": "execute_result",
     "data": {
      "text/plain": "                                                   isImmediateRoutingRequired\n(Unnamed: 0_level_0, Unnamed: 0_level_1, Event_...                           \n10001                                                                     NaN\n10003                                                                     NaN\n10004                                                                     NaN\n10005                                                                     NaN\n10009                                                                     NaN",
      "text/html": "<div>\n<style scoped>\n    .dataframe tbody tr th:only-of-type {\n        vertical-align: middle;\n    }\n\n    .dataframe tbody tr th {\n        vertical-align: top;\n    }\n\n    .dataframe thead th {\n        text-align: right;\n    }\n</style>\n<table border=\"1\" class=\"dataframe\">\n  <thead>\n    <tr style=\"text-align: right;\">\n      <th></th>\n      <th>isImmediateRoutingRequired</th>\n    </tr>\n    <tr>\n      <th>(Unnamed: 0_level_0, Unnamed: 0_level_1, Event_code)</th>\n      <th></th>\n    </tr>\n  </thead>\n  <tbody>\n    <tr>\n      <th>10001</th>\n      <td>NaN</td>\n    </tr>\n    <tr>\n      <th>10003</th>\n      <td>NaN</td>\n    </tr>\n    <tr>\n      <th>10004</th>\n      <td>NaN</td>\n    </tr>\n    <tr>\n      <th>10005</th>\n      <td>NaN</td>\n    </tr>\n    <tr>\n      <th>10009</th>\n      <td>NaN</td>\n    </tr>\n  </tbody>\n</table>\n</div>"
     },
     "metadata": {},
     "execution_count": 383
    }
   ],
   "source": [
    "df_slice = df_slice.loc[:,:].replace('Y', True)\n",
    "df_slice.head()"
   ]
  },
  {
   "cell_type": "code",
   "execution_count": 384,
   "metadata": {},
   "outputs": [],
   "source": [
    "pushNotification_dict = df_slice.dropna('index',how='all').to_dict('index')"
   ]
  },
  {
   "cell_type": "code",
   "execution_count": 385,
   "metadata": {},
   "outputs": [
    {
     "output_type": "execute_result",
     "data": {
      "text/plain": "{30060: {'isImmediateRoutingRequired': True},\n 30071: {'isImmediateRoutingRequired': True},\n 30072: {'isImmediateRoutingRequired': True},\n 30073: {'isImmediateRoutingRequired': True},\n 30074: {'isImmediateRoutingRequired': True}}"
     },
     "metadata": {},
     "execution_count": 385
    }
   ],
   "source": [
    "pushNotification_dict"
   ]
  },
  {
   "cell_type": "code",
   "execution_count": 386,
   "metadata": {},
   "outputs": [],
   "source": [
    "for key, value in data_dict.items():\n",
    "    try:\n",
    "        value['commsEngine'] = {\n",
    "            'targetTopics': targetTopics_dict[key]\n",
    "        }\n",
    "    except:\n",
    "        pass"
   ]
  },
  {
   "cell_type": "code",
   "execution_count": 387,
   "metadata": {},
   "outputs": [],
   "source": [
    "for key, value in data_dict.items():\n",
    "    try:\n",
    "        value['commsEngine'] = {\n",
    "            'fromPreference': fromPreference_dict[key]\n",
    "        }\n",
    "    except:\n",
    "        pass"
   ]
  },
  {
   "cell_type": "code",
   "execution_count": 388,
   "metadata": {},
   "outputs": [],
   "source": [
    "for key, value in data_dict.items():\n",
    "    try:\n",
    "        value['commsEngine'] = {\n",
    "            'fromProfile': fromProfile_dict[key]\n",
    "        }\n",
    "    except:\n",
    "        pass"
   ]
  },
  {
   "cell_type": "code",
   "execution_count": 389,
   "metadata": {},
   "outputs": [],
   "source": [
    "for key, value in data_dict.items():\n",
    "    try:\n",
    "        value['commsEngine'] = {\n",
    "            'pushNotification': pushNotification_dict[key]\n",
    "        }\n",
    "    except:\n",
    "        pass"
   ]
  },
  {
   "cell_type": "code",
   "execution_count": 344,
   "metadata": {},
   "outputs": [
    {
     "output_type": "execute_result",
     "data": {
      "text/plain": ": 'Statement ',\n  'activityType': 'Account Loan ',\n  'category': 'Non-financial',\n  'description': 'Request e-Statement ',\n  'eventEngine': {'targetTopics': ['log.audit']}},\n 30104: {'type': 'Lock / Unlock',\n  'activityType': 'ATM / Debit Card ',\n  'category': 'Non-financial',\n  'description': 'Lock Card',\n  'eventEngine': {'targetTopics': ['log.audit']}},\n 30105: {'type': 'Lock / Unlock',\n  'activityType': 'ATM / Debit Card ',\n  'category': 'Non-financial',\n  'description': 'Unlock Card',\n  'eventEngine': {'targetTopics': ['log.audit']}},\n 30106: {'type': 'Verify by VISA ',\n  'activityType': 'ATM / Debit Card ',\n  'category': 'Non-financial',\n  'description': 'Register Verify by VISA',\n  'eventEngine': {'targetTopics': ['log.audit']}},\n 40000: {'type': 'Account Settings',\n  'activityType': 'Settings',\n  'category': 'Non-financial',\n  'description': 'Display Full Account Number ',\n  'eventEngine': {'targetTopics': ['log.audit']}},\n 40001: {'type': 'Transaction Limit',\n  'activityType': 'Settings ',\n  'category': 'Non-financial',\n  'description': 'Manage Transaction Limit - Normal user',\n  'eventEngine': {'targetTopics': ['log.audit']}},\n 40002: {'type': 'Transaction Limit',\n  'activityType': 'Settings ',\n  'category': 'Non-financial',\n  'description': 'Manage Transaction Limit - e-KYC user',\n  'eventEngine': {'targetTopics': ['log.audit']}},\n 40003: {'type': 'General Settings',\n  'activityType': 'Settings',\n  'category': 'Non-financial',\n  'description': 'Change email address',\n  'eventEngine': {'targetTopics': ['log.audit']}},\n 40005: {'type': 'Security Settings',\n  'activityType': 'Settings ',\n  'category': 'Non-financial',\n  'description': 'Change PIN',\n  'eventEngine': {'targetTopics': ['log.audit']}},\n 40007: {'type': 'Account Settings',\n  'activityType': 'Settings ',\n  'category': 'Non-financial',\n  'description': 'Mange Account - Hide / Unhide Acocunts',\n  'eventEngine': {'targetTopics': ['log.audit']}},\n 40008: {'type': 'Home Settings',\n  'activityType': 'Settings ',\n  'category': 'Non-financial',\n  'description': 'Add/Remove Shortcut',\n  'eventEngine': {'targetTopics': ['log.audit']}},\n 40015: {'type': 'PromptPay ',\n  'activityType': 'Settings ',\n  'category': 'Non-financial',\n  'description': 'Edit PromptPay - Change linked account to PromptPay',\n  'eventEngine': {'targetTopics': ['log.audit']}},\n 40020: {'type': 'Account Settings',\n  'activityType': 'Settings',\n  'category': 'Non-financial',\n  'description': 'Manage Account - Change Account Nickname (Deposits)',\n  'eventEngine': {'targetTopics': ['log.audit']}},\n 40021: {'type': 'Account Settings',\n  'activityType': 'Settings',\n  'category': 'Non-financial',\n  'description': 'Manage Account - Change Account Nickname (Loans)',\n  'eventEngine': {'targetTopics': ['log.audit']}},\n 40023: {'type': 'Account Settings',\n  'activityType': 'Settings',\n  'category': 'Non-financial',\n  'description': 'Manage Account - Change Account Nickname (Debit)',\n  'eventEngine': {'targetTopics': ['log.audit']}},\n 40024: {'type': 'Account Settings',\n  'activityType': 'Settings',\n  'category': 'Non-financial',\n  'description': 'Manage Account - Change Account Nickname (Travel Card)',\n  'eventEngine': {'targetTopics': ['log.audit']}},\n 40025: {'type': 'Account Settings',\n  'activityType': 'Settings',\n  'category': 'Non-financial',\n  'description': 'Manage Account - Set Main Account',\n  'eventEngine': {'targetTopics': ['log.audit']}},\n 40040: {'type': 'Favorite',\n  'activityType': 'Settings ',\n  'category': 'Non-financial',\n  'description': 'Add Favorite - Transfer to account no.',\n  'eventEngine': {'targetTopics': ['log.audit']}},\n 40041: {'type': 'Favorite',\n  'activityType': 'Settings ',\n  'category': 'Non-financial',\n  'description': 'Add Favorite - Transfer to promptpay',\n  'eventEngine': {'targetTopics': ['log.audit']}},\n 40042: {'type': 'Favorite',\n  'activityType': 'Settings ',\n  'category': 'Non-financial',\n  'description': 'Add Favorite - Payment',\n  'eventEngine': {'targetTopics': ['log.audit']}},\n 40043: {'type': 'Favorite',\n  'activityType': 'Settings ',\n  'category': 'Non-financial',\n  'description': 'Edit favorite - Transfer to account no.',\n  'eventEngine': {'targetTopics': ['log.audit']}},\n 40044: {'type': 'Favorite',\n  'activityType': 'Settings ',\n  'category': 'Non-financial',\n  'description': 'Delete favorite - Transfer to account no.',\n  'eventEngine': {'targetTopics': ['log.audit']}},\n 40045: {'type': 'Favorite',\n  'activityType': 'Settings ',\n  'category': 'Non-financial',\n  'description': 'Edit favorite - Transfer to PromptPay',\n  'eventEngine': {'targetTopics': ['log.audit']}},\n 40046: {'type': 'Favorite',\n  'activityType': 'Settings ',\n  'category': 'Non-financial',\n  'description': 'Delete favorite - Transfer to PromptPay',\n  'eventEngine': {'targetTopics': ['log.audit']}},\n 40047: {'type': 'Favorite',\n  'activityType': 'Settings ',\n  'category': 'Non-financial',\n  'description': 'Delete favorite - Payment',\n  'eventEngine': {'targetTopics': ['log.audit']}},\n 40048: {'type': 'Favorite',\n  'activityType': 'Settings ',\n  'category': 'Non-financial',\n  'description': 'Delete favorite - Top Up',\n  'eventEngine': {'targetTopics': ['log.audit']}},\n 40049: {'type': 'Favorite',\n  'activityType': 'Settings ',\n  'category': 'Non-financial',\n  'description': 'Edit favorite - Payment',\n  'eventEngine': {'targetTopics': ['log.audit']}},\n 40050: {'type': 'Favorite',\n  'activityType': 'Settings ',\n  'category': 'Non-financial',\n  'description': 'Edit favorite - Top up',\n  'eventEngine': {'targetTopics': ['log.audit']}},\n 40051: {'type': 'Favorite',\n  'activityType': 'Settings ',\n  'category': 'Non-financial',\n  'description': 'Add Favorite - Top Up',\n  'eventEngine': {'targetTopics': ['log.audit']}},\n 40053: {'type': 'Security Settings',\n  'activityType': 'Settings ',\n  'category': 'Non-financial',\n  'description': '[Settings] Change OTP mobile no. (Sent Notification to old mobile no.)'},\n 40054: {'type': 'Security Settings',\n  'activityType': 'Settings ',\n  'category': 'Non-financial',\n  'description': 'Change OTP mobile no.',\n  'eventEngine': {'targetTopics': ['log.audit']}},\n 40055: {'type': 'Favorite',\n  'activityType': 'Settings ',\n  'category': 'Non-financial',\n  'description': 'Add Favorite - Loan Payment',\n  'eventEngine': {'targetTopics': ['log.audit']}},\n 40056: {'type': 'Security Settings',\n  'activityType': 'Settings ',\n  'category': 'Non-financial',\n  'description': 'Enable Biometric',\n  'eventEngine': {'targetTopics': ['log.audit']}},\n 40058: {'type': 'Scan & Go',\n  'activityType': 'Settings ',\n  'category': 'Non-financial',\n  'description': 'Enable Scan & Go',\n  'eventEngine': {'targetTopics': ['log.audit']}},\n 40059: {'type': 'Scan & Go',\n  'activityType': 'Settings ',\n  'category': 'Non-financial',\n  'description': 'Set Limit Scan & Go',\n  'eventEngine': {'targetTopics': ['log.audit']}},\n 40061: {'type': 'Favorite',\n  'activityType': 'Settings ',\n  'category': 'Non-financial',\n  'description': 'Edit favorite - Loan Payment',\n  'eventEngine': {'targetTopics': ['log.audit']}},\n 40062: {'type': 'Favorite',\n  'activityType': 'Settings ',\n  'category': 'Non-financial',\n  'description': 'Delete favorite - Loan Paymnet',\n  'eventEngine': {'targetTopics': ['log.audit']}},\n 40063: {'type': 'Quick Balance ',\n  'activityType': 'Settings',\n  'category': 'Non-financial',\n  'description': 'Manage Account - Enable Quick Balance',\n  'eventEngine': {'targetTopics': ['log.audit']}},\n 40064: {'type': 'N Settings',\n  'activityType': 'Settings',\n  'category': 'Non-financial',\n  'description': 'Email N settings',\n  'eventEngine': {'targetTopics': ['log.audit']}},\n 40065: {'type': 'N Settings',\n  'activityType': 'Settings',\n  'category': 'Non-financial',\n  'description': 'Push N settings',\n  'eventEngine': {'targetTopics': ['log.audit']}},\n 40066: {'type': 'Consent Management',\n  'activityType': 'Settings',\n  'category': 'Non-financial',\n  'description': 'Manage Customer consent',\n  'eventEngine': {'targetTopics': ['log.audit']}},\n 42001: {'type': 'Digital Lending',\n  'activityType': 'Digital Lending - Loan Offering',\n  'category': 'Non-financial',\n  'description': 'Loan offering',\n  'eventEngine': {'targetTopics': ['log.audit']}},\n 42003: {'type': 'Digital Lending',\n  'activityType': 'Digital Lending - Loan Application',\n  'category': 'Non-financial',\n  'description': 'Loan application approval',\n  'eventEngine': {'targetTopics': ['log.audit']}},\n 42004: {'type': 'Digital Lending',\n  'activityType': 'Digital Lending - Loan Application',\n  'category': 'Non-financial',\n  'description': 'Loan application rejection',\n  'eventEngine': {'targetTopics': ['log.audit']}},\n 42005: {'type': 'Digital Lending',\n  'activityType': 'Digital Lending - Contract Acceptance',\n  'category': 'Non-financial',\n  'description': 'Overdraft limit has been set up',\n  'eventEngine': {'targetTopics': ['log.audit']}},\n 42006: {'type': 'Digital Lending',\n  'activityType': 'Digital Lending - Loan Application',\n  'category': 'Non-financial',\n  'description': 'Expiry of approved application outcome (7 days after approval)',\n  'eventEngine': {'targetTopics': ['log.audit']}},\n 42007: {'type': 'Digital Lending',\n  'activityType': 'Digital Lending - Loan Application',\n  'category': 'Non-financial',\n  'description': 'Expiry of approved application outcome (7 days before expire)',\n  'eventEngine': {'targetTopics': ['log.audit']}},\n 42008: {'type': 'Digital Lending',\n  'activityType': 'Digital Lending - Account Block/Unblock',\n  'category': 'Non-financial',\n  'description': 'Limit reduction warning (age criteria - 1st warning)',\n  'eventEngine': {'targetTopics': ['log.audit']}},\n 42009: {'type': 'Digital Lending',\n  'activityType': 'Digital Lending - Account Block/Unblock',\n  'category': 'Non-financial',\n  'description': 'Limit reduction (payroll deposit)',\n  'eventEngine': {'targetTopics': ['log.audit']}},\n 42010: {'type': 'Digital Lending',\n  'activityType': 'Digital Lending - Account Block/Unblock',\n  'category': 'Non-financial',\n  'description': 'Limit reduction (age criteria)',\n  'eventEngine': {'targetTopics': ['log.audit']}},\n 42011: {'type': 'Digital Lending',\n  'activityType': 'Digital Lending - Account Block/Unblock',\n  'category': 'Non-financial',\n  'description': 'Limit reduction (4th FI - 1st reduction)',\n  'eventEngine': {'targetTopics': ['log.audit']}},\n 42012: {'type': 'Digital Lending',\n  'activityType': 'Digital Lending - Account Block/Unblock',\n  'category': 'Non-financial',\n  'description': 'Limit reduction (4th FI - limit closure)',\n  'eventEngine': {'targetTopics': ['log.audit']}},\n 42013: {'type': 'Digital Lending',\n  'activityType': 'Digital Lending - Account Block/Unblock',\n  'category': 'Non-financial',\n  'description': 'Limit reduction (C2/1 delinquency\\xa0มากกว่า 1\\xa0เดือน แต่ไม่เกิน\\xa02\\xa0เดือน\\xa0\\xa0)',\n  'eventEngine': {'targetTopics': ['log.audit']}},\n 42014: {'type': 'Digital Lending',\n  'activityType': 'Digital Lending - Account Block/Unblock',\n  'category': 'Non-financial',\n  'description': 'Limit closure (C2/2 delinquency)',\n  'eventEngine': {'targetTopics': ['log.audit']}},\n 42015: {'type': 'Digital Lending',\n  'activityType': 'Digital Lending - Account Block/Unblock',\n  'category': 'Non-financial',\n  'description': 'Limit closure (fraud/ no payroll more than 3 mths/4th NCB after 30 days)',\n  'eventEngine': {'targetTopics': ['log.audit']}},\n 42016: {'type': 'Digital Lending',\n  'activityType': 'Digital Lending - Account Block/Unblock',\n  'category': 'Non-financial',\n  'description': 'Original Payday limit being reinstated (payroll deposit)',\n  'eventEngine': {'targetTopics': ['log.audit']}},\n 42017: {'type': 'Digital Lending',\n  'activityType': 'Digital Lending - Account Block/Unblock',\n  'category': 'Non-financial',\n  'description': 'Original Payday limit being reinstated (C2/1 delinquency)',\n  'eventEngine': {'targetTopics': ['log.audit']}},\n 42018: {'type': 'Digital Lending',\n  'activityType': 'Digital Lending - Account Block/Unblock',\n  'category': 'Non-financial',\n  'description': 'Limit reduction warning (age criteria – 1 month warning)',\n  'eventEngine': {'targetTopics': ['log.audit']}},\n 43002: {'type': 'Smart Promotion',\n  'activityType': 'Smart Promotion/Smart Banner',\n  'category': 'Non-financial',\n  'description': 'Sent Smart Promotion to user',\n  'eventEngine': {'targetTopics': ['log.audit']}},\n 43003: {'type': 'Smart Promotion',\n  'activityType': 'Smart Promotion/Smart Banner',\n  'category': 'Non-financial',\n  'description': 'View Smart promotion/Smart Banner',\n  'eventEngine': {'targetTopics': ['log.audit']}},\n 43004: {'type': 'Smart Promotion',\n  'activityType': 'Smart Promotion/Smart Banner',\n  'category': 'Non-financial',\n  'description': 'Sent Smart Promotion to user',\n  'eventEngine': {'targetTopics': ['log.audit']}},\n 50001: {'type': 'Account Opening',\n  'activityType': 'CASA ETB ',\n  'category': 'Non-financial',\n  'description': 'Account Opening',\n  'eventEngine': {'targetTopics': ['log.audit']}},\n 50002: {'type': 'NDID ',\n  'activityType': 'NDID ',\n  'category': 'Non-financial',\n  'description': 'Response to NDID request',\n  'eventEngine': {'targetTopics': ['log.audit']}},\n 50003: {'type': 'NDID ',\n  'activityType': 'NDID ',\n  'category': 'Non-financial',\n  'description': 'NDID Unenrollment',\n  'eventEngine': {'targetTopics': ['log.audit']}},\n 50004: {'type': 'NDID ',\n  'activityType': 'NDID ',\n  'category': 'Non-financial',\n  'description': 'NDID Authentcation Status Tracking',\n  'eventEngine': {'targetTopics': ['log.audit']}},\n 50005: {'type': 'NDID ',\n  'activityType': 'NDID ',\n  'category': 'Non-financial',\n  'description': 'NDID Authentication Request ',\n  'eventEngine': {'targetTopics': ['log.audit']}},\n 50006: {'type': 'Insurance ',\n  'activityType': 'Travel Insurance',\n  'category': 'Financial',\n  'description': 'Purchase Insurance',\n  'eventEngine': {'targetTopics': ['log.audit', 'stream.transaction.limit']}},\n 50007: {'type': 'NDID ',\n  'activityType': 'NDID ',\n  'category': 'Non-financial',\n  'description': 'NDID enrollment - Dopa verification ',\n  'eventEngine': {'targetTopics': ['log.audit']}},\n 50009: {'type': 'NDID ',\n  'activityType': 'NDID ',\n  'category': 'Non-financial',\n  'description': 'Verification - successful verification',\n  'eventEngine': {'targetTopics': ['log.audit']}},\n 50011: {'type': 'NDID ',\n  'activityType': 'NDID ',\n  'category': 'Non-financial',\n  'description': 'Accept latest NDID or Idp terms and conditions',\n  'eventEngine': {'targetTopics': ['log.audit']}},\n 50012: {'type': 'NDID ',\n  'activityType': 'NDID ',\n  'category': 'Non-financial',\n  'description': 'Successful enrollment',\n  'eventEngine': {'targetTopics': ['log.audit']}},\n 50014: {'type': 'NDID ',\n  'activityType': 'NDID ',\n  'category': 'Non-financial',\n  'description': 'Account Opening - Personal Info before edit',\n  'eventEngine': {'targetTopics': ['log.audit']}},\n 50017: {'type': 'NDID ',\n  'activityType': 'NDID ',\n  'category': 'Non-financial',\n  'description': 'Not Register NEXT Application',\n  'eventEngine': {'targetTopics': ['log.audit']}},\n 50018: {'type': 'NDID ',\n  'activityType': 'NDID ',\n  'category': 'Non-financial',\n  'description': 'Account Opening - Verify',\n  'eventEngine': {'targetTopics': ['log.audit']}},\n 50019: {'type': 'NDID ',\n  'activityType': 'NDID ',\n  'category': 'Non-financial',\n  'description': 'Account Opening - Successful open account',\n  'eventEngine': {'targetTopics': ['log.audit']}},\n 50020: {'type': 'NDID ',\n  'activityType': 'NDID ',\n  'category': 'Non-financial',\n  'description': 'Account Opening - Personal Info after edit',\n  'eventEngine': {'targetTopics': ['log.audit']}},\n 50021: {'type': 'NDID ',\n  'activityType': 'NDID ',\n  'category': 'Non-financial',\n  'description': 'Account Opening - Fatca',\n  'eventEngine': {'targetTopics': ['log.audit']}},\n 50022: {'type': 'NDID ',\n  'activityType': 'NDID ',\n  'category': 'Non-financial',\n  'description': 'Account Opening - IDP',\n  'eventEngine': {'targetTopics': ['log.audit']}},\n 50024: {'type': 'Account Opening',\n  'activityType': 'CASA ETB ',\n  'category': 'Non-financial',\n  'description': 'Account Opening - Personal Info before edit',\n  'eventEngine': {'targetTopics': ['log.audit']}},\n 50026: {'type': 'Account Opening',\n  'activityType': 'CASA ETB ',\n  'category': 'Non-financial',\n  'description': 'Account Opening - Personal Info after edit',\n  'eventEngine': {'targetTopics': ['log.audit']}},\n 51002: {'type': 'Digital Lending',\n  'activityType': 'Digital Lending - Account Block/Unblock',\n  'category': 'Non-financial',\n  'description': 'Conduct pre-screening when pressing apply on Loan Offer',\n  'eventEngine': {'targetTopics': ['log.audit']}},\n 51003: {'type': 'Digital Lending',\n  'activityType': 'Digital Lending - Loan Application',\n  'category': 'Non-financial',\n  'description': 'Received laser ID verification results',\n  'eventEngine': {'targetTopics': ['log.audit']}},\n 51004: {'type': 'Digital Lending',\n  'activityType': 'Digital Lending - Loan Application',\n  'category': 'Non-financial',\n  'description': 'Application submission',\n  'eventEngine': {'targetTopics': ['log.audit']}},\n 51005: {'type': 'Digital Lending',\n  'activityType': 'Digital Lending - Loan Application',\n  'category': 'Non-financial',\n  'description': 'Log all statuses received from workflow',\n  'eventEngine': {'targetTopics': ['log.audit']}},\n 51006: {'type': 'Digital Lending',\n  'activityType': 'Digital Lending - Contract Acceptance',\n  'category': 'Non-financial',\n  'description': 'Accepted Payday application outcome',\n  'eventEngine': {'targetTopics': ['log.audit']}},\n 51007: {'type': 'Digital Lending',\n  'activityType': 'Digital Lending - Contract Acceptance',\n  'category': 'Non-financial',\n  'description': 'Conduct 6 Checks Verification\\nPayDay Product (Contract Acceptance) - Conduct 6 Checks Verification\\n',\n  'eventEngine': {'targetTopics': ['log.audit']}},\n 90010: {'type': 'Back Office',\n  'activityType': 'Back Office',\n  'category': 'Non-financial',\n  'description': '[Back Office] Change OTP mobile no. (Sent Notification to old mobile no.)'},\n 90011: {'type': 'Back Office',\n  'activityType': 'Back Office',\n  'category': 'Non-financial',\n  'description': '[Back Office] Succeful Change OTP mobile no. (Sent Notification to new mobile no.)'},\n 50025: {'type': 'NDID ',\n  'activityType': 'NDID ',\n  'category': 'Non-financial',\n  'description': 'Save request for NDID document to store in Documentum service ',\n  'eventEngine': {'targetTopics': ['stream.documentum.documents']}},\n 50016: {'type': 'NDID ',\n  'activityType': 'NDID ',\n  'category': 'Non-financial',\n  'description': 'Generate Online\\xa0Account Opening\\xa0Evidence files and store in Document Repository',\n  'eventEngine': {'targetTopics': ['stream.ndid.evidence']}},\n 42019: {'type': 'Digital Lending',\n  'activityType': 'Digital Lending - Account Block/Unblock',\n  'category': 'Non-financial',\n  'description': 'To close limit and open term loan (C2/2 delinquency มากกว่า 2 เดือนขึ้นไป)',\n  'eventEngine': {'targetTopics': ['log.audit']}},\n 42020: {'type': 'Digital Lending',\n  'activityType': 'Digital Lending - Account Block/Unblock',\n  'category': 'Non-financial',\n  'description': 'Limit closed and term loan opened (C2/2 delinquency)',\n  'eventEngine': {'targetTopics': ['log.audit']}},\n 40067: {'type': 'Security Settings',\n  'activityType': 'Settings ',\n  'category': 'Non-financial',\n  'description': 'Settings - AML status verification check',\n  'eventEngine': {'targetTopics': ['log.audit', 'stream.cbs-data.update']}},\n 40068: {'type': 'Security Settings',\n  'activityType': 'Settings ',\n  'category': 'Non-financial',\n  'description': 'Settings - Update data in CBS',\n  'eventEngine': {'targetTopics': ['log.audit', 'stream.cbs-data.update']}},\n 22037: {'type': 'Transactions',\n  'activityType': 'Bill Payment',\n  'category': 'Financial',\n  'description': 'Pay to NCB',\n  'eventEngine': {'targetTopics': ['log.audit', 'stream.transaction.limit']}}}"
     },
     "metadata": {},
     "execution_count": 344
    }
   ],
   "source": [
    "data_dict"
   ]
  },
  {
   "cell_type": "code",
   "execution_count": 390,
   "metadata": {},
   "outputs": [],
   "source": [
    "with open(\"test.json\", 'w', encoding='utf-8') as f:\n",
    "    json.dump(data_dict, f, ensure_ascii=False, indent=4)"
   ]
  }
 ],
 "metadata": {
  "kernelspec": {
   "name": "python_defaultSpec_1595433382699",
   "language": "python",
   "display_name": "Python 3.7.6 64-bit ('base': conda)"
  },
  "language_info": {
   "codemirror_mode": {
    "name": "ipython",
    "version": 2
   },
   "file_extension": ".py",
   "mimetype": "text/x-python",
   "name": "python",
   "nbconvert_exporter": "python",
   "pygments_lexer": "ipython2",
   "version": "2.7.6"
  }
 },
 "nbformat": 4,
 "nbformat_minor": 0
}